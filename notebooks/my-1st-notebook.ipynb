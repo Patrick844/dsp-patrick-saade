{
 "cells": [
  {
   "cell_type": "code",
   "execution_count": 2,
   "id": "1866dac4",
   "metadata": {
    "execution": {
     "iopub.execute_input": "2022-03-24T21:04:27.373129Z",
     "iopub.status.busy": "2022-03-24T21:04:27.373129Z",
     "iopub.status.idle": "2022-03-24T21:04:27.525389Z",
     "shell.execute_reply": "2022-03-24T21:04:27.525389Z"
    }
   },
   "outputs": [
    {
     "data": {
      "text/plain": [
       "array([[82, 89,  9],\n",
       "       [32, 73, 52],\n",
       "       [68, 50, 93],\n",
       "       [85, 47, 47],\n",
       "       [42, 16, 44],\n",
       "       [90, 62, 42],\n",
       "       [95, 20, 32],\n",
       "       [12, 28, 66],\n",
       "       [19, 55, 29],\n",
       "       [46, 61, 37]])"
      ]
     },
     "execution_count": 2,
     "metadata": {},
     "output_type": "execute_result"
    }
   ],
   "source": [
    "import numpy as np\n",
    "\n",
    "random_value=np.random.randint(100,size=(10,3))\n",
    "random_value"
   ]
  }
 ],
 "metadata": {
  "kernelspec": {
   "display_name": "Python 3 (ipykernel)",
   "language": "python",
   "name": "python3"
  },
  "language_info": {
   "codemirror_mode": {
    "name": "ipython",
    "version": 3
   },
   "file_extension": ".py",
   "mimetype": "text/x-python",
   "name": "python",
   "nbconvert_exporter": "python",
   "pygments_lexer": "ipython3",
   "version": "3.9.7"
  },
  "widgets": {
   "application/vnd.jupyter.widget-state+json": {
    "state": {},
    "version_major": 2,
    "version_minor": 0
   }
  }
 },
 "nbformat": 4,
 "nbformat_minor": 5
}
