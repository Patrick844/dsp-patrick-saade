{
 "cells": [
  {
   "cell_type": "code",
   "execution_count": 5,
   "id": "1866dac4",
   "metadata": {},
   "outputs": [
    {
     "name": "stdout",
     "output_type": "stream",
     "text": [
      "[[ 3 62 60]\n",
      " [12 74 82]\n",
      " [92 70 73]\n",
      " [17 41 27]\n",
      " [27 75 78]\n",
      " [ 3 41 83]\n",
      " [50  0 80]\n",
      " [12 96 18]\n",
      " [31 67 25]\n",
      " [60 23  6]]\n"
     ]
    }
   ],
   "source": [
    "import numpy as np\n",
    "\n",
    "random_value=np.random.randint(100,size=(10,3))\n",
    "print(random_value)"
   ]
  }
 ],
 "metadata": {
  "kernelspec": {
   "display_name": "Python 3 (ipykernel)",
   "language": "python",
   "name": "python3"
  },
  "language_info": {
   "codemirror_mode": {
    "name": "ipython",
    "version": 3
   },
   "file_extension": ".py",
   "mimetype": "text/x-python",
   "name": "python",
   "nbconvert_exporter": "python",
   "pygments_lexer": "ipython3",
   "version": "3.9.7"
  }
 },
 "nbformat": 4,
 "nbformat_minor": 5
}
