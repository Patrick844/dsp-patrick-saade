{
 "cells": [
  {
   "cell_type": "code",
   "execution_count": 7,
   "id": "1866dac4",
   "metadata": {},
   "outputs": [
    {
     "data": {
      "text/plain": [
       "array([[95, 10, 30],\n",
       "       [75, 81, 60],\n",
       "       [38,  0, 49],\n",
       "       [39, 15, 73],\n",
       "       [ 2, 99,  3],\n",
       "       [10, 12,  3],\n",
       "       [26, 29, 91],\n",
       "       [46, 19, 44],\n",
       "       [59, 16, 33],\n",
       "       [44, 54, 79]])"
      ]
     },
     "execution_count": 7,
     "metadata": {},
     "output_type": "execute_result"
    }
   ],
   "source": [
    "import numpy as np\n",
    "\n",
    "random_value=np.random.randint(100,size=(10,3))\n",
    "random_value"
   ]
  }
 ],
 "metadata": {
  "kernelspec": {
   "display_name": "Python 3 (ipykernel)",
   "language": "python",
   "name": "python3"
  },
  "language_info": {
   "codemirror_mode": {
    "name": "ipython",
    "version": 3
   },
   "file_extension": ".py",
   "mimetype": "text/x-python",
   "name": "python",
   "nbconvert_exporter": "python",
   "pygments_lexer": "ipython3",
   "version": "3.9.7"
  },
  "widgets": {
   "application/vnd.jupyter.widget-state+json": {
    "state": {},
    "version_major": 2,
    "version_minor": 0
   }
  }
 },
 "nbformat": 4,
 "nbformat_minor": 5
}
