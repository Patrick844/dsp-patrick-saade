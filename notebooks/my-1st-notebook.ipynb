{
 "cells": [
  {
   "cell_type": "code",
   "execution_count": 1,
   "id": "1866dac4",
   "metadata": {
    "execution": {
     "iopub.execute_input": "2022-03-24T21:04:27.373129Z",
     "iopub.status.busy": "2022-03-24T21:04:27.373129Z",
     "iopub.status.idle": "2022-03-24T21:04:27.525389Z",
     "shell.execute_reply": "2022-03-24T21:04:27.525389Z"
    }
   },
   "outputs": [
    {
     "name": "stdout",
     "output_type": "stream",
     "text": [
      "[[98 57 58]\n",
      " [90 88 12]\n",
      " [18 57 43]\n",
      " [ 7 30 98]\n",
      " [39 66  8]\n",
      " [50 27  3]\n",
      " [38 27 34]\n",
      " [98  6 57]\n",
      " [84 14 17]\n",
      " [69  8  3]]\n"
     ]
    }
   ],
   "source": [
    "import numpy as np\n",
    "\n",
    "random_value=np.random.randint(100,size=(10,3))\n",
    "print(random_value)"
   ]
  }
 ],
 "metadata": {
  "kernelspec": {
   "display_name": "Python 3 (ipykernel)",
   "language": "python",
   "name": "python3"
  },
  "language_info": {
   "codemirror_mode": {
    "name": "ipython",
    "version": 3
   },
   "file_extension": ".py",
   "mimetype": "text/x-python",
   "name": "python",
   "nbconvert_exporter": "python",
   "pygments_lexer": "ipython3",
   "version": "3.9.7"
  },
  "widgets": {
   "application/vnd.jupyter.widget-state+json": {
    "state": {},
    "version_major": 2,
    "version_minor": 0
   }
  }
 },
 "nbformat": 4,
 "nbformat_minor": 5
}
