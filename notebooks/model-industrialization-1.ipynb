{
 "cells": [
  {
   "cell_type": "code",
   "execution_count": 1,
   "id": "da17c8e2",
   "metadata": {},
   "outputs": [],
   "source": [
    "import pandas as pd\n",
    "import numpy as np\n",
    "import seaborn as sns\n",
    "import re\n",
    "from sklearn.model_selection import train_test_split\n",
    "import matplotlib.pyplot as plt\n",
    "from sklearn.feature_selection import r_regression,f_classif\n",
    "from sklearn.preprocessing import OrdinalEncoder\n",
    "from sklearn.linear_model import LinearRegression\n",
    "from sklearn.preprocessing import MinMaxScaler"
   ]
  },
  {
   "cell_type": "markdown",
   "id": "05fd7bf9",
   "metadata": {},
   "source": [
    "## Loading and splitting data"
   ]
  },
  {
   "cell_type": "code",
   "execution_count": 2,
   "id": "7c4bb5f0",
   "metadata": {},
   "outputs": [],
   "source": [
    "df=pd.read_csv(\"../data/train.csv\")\n",
    "df_train=df.drop(\"SalePrice\",axis=1)\n",
    "dftest=pd.read_csv(\"../data/test.csv\")\n",
    "df_result=pd.read_csv(\"../data/sample_submission.csv\")"
   ]
  },
  {
   "cell_type": "code",
   "execution_count": 3550,
   "id": "436dec9b",
   "metadata": {},
   "outputs": [
    {
     "data": {
      "text/plain": [
       "SalePrice        1.000000\n",
       "OverallQual      0.790982\n",
       "GrLivArea        0.708624\n",
       "GarageCars       0.640409\n",
       "GarageArea       0.623431\n",
       "TotalBsmtSF      0.613581\n",
       "1stFlrSF         0.605852\n",
       "FullBath         0.560664\n",
       "TotRmsAbvGrd     0.533723\n",
       "YearBuilt        0.522897\n",
       "YearRemodAdd     0.507101\n",
       "GarageYrBlt      0.486362\n",
       "MasVnrArea       0.477493\n",
       "Fireplaces       0.466929\n",
       "BsmtFinSF1       0.386420\n",
       "LotFrontage      0.351799\n",
       "WoodDeckSF       0.324413\n",
       "2ndFlrSF         0.319334\n",
       "OpenPorchSF      0.315856\n",
       "HalfBath         0.284108\n",
       "LotArea          0.263843\n",
       "BsmtFullBath     0.227122\n",
       "BsmtUnfSF        0.214479\n",
       "BedroomAbvGr     0.168213\n",
       "ScreenPorch      0.111447\n",
       "PoolArea         0.092404\n",
       "MoSold           0.046432\n",
       "3SsnPorch        0.044584\n",
       "BsmtFinSF2      -0.011378\n",
       "BsmtHalfBath    -0.016844\n",
       "MiscVal         -0.021190\n",
       "Id              -0.021917\n",
       "LowQualFinSF    -0.025606\n",
       "YrSold          -0.028923\n",
       "OverallCond     -0.077856\n",
       "MSSubClass      -0.084284\n",
       "EnclosedPorch   -0.128578\n",
       "KitchenAbvGr    -0.135907\n",
       "Name: SalePrice, dtype: float64"
      ]
     },
     "execution_count": 3550,
     "metadata": {},
     "output_type": "execute_result"
    }
   ],
   "source": [
    "df.corr()[\"SalePrice\"].sort_values(ascending=False)"
   ]
  },
  {
   "cell_type": "code",
   "execution_count": 3551,
   "id": "d15ada7c",
   "metadata": {},
   "outputs": [],
   "source": [
    "X=df.iloc[:,:-1]\n",
    "Y=df.iloc[:,-1]"
   ]
  },
  {
   "cell_type": "code",
   "execution_count": 3552,
   "id": "24b3d12a",
   "metadata": {},
   "outputs": [],
   "source": [
    "xtrain,xtest,ytrain,ytest=train_test_split(X,Y,test_size=0.30,random_state=42)"
   ]
  },
  {
   "cell_type": "markdown",
   "id": "345b81c8",
   "metadata": {},
   "source": [
    "## Cleaning Data Train"
   ]
  },
  {
   "cell_type": "code",
   "execution_count": 3553,
   "id": "4da47260",
   "metadata": {},
   "outputs": [],
   "source": [
    "xtrain_null= xtrain.isnull().sum()[xtrain.isnull().sum() > 0]"
   ]
  },
  {
   "cell_type": "code",
   "execution_count": 3554,
   "id": "de3f1420",
   "metadata": {},
   "outputs": [
    {
     "data": {
      "text/plain": [
       "Electrical         1\n",
       "MasVnrType         3\n",
       "MasVnrArea         3\n",
       "BsmtQual          26\n",
       "BsmtCond          26\n",
       "BsmtExposure      26\n",
       "BsmtFinType1      26\n",
       "BsmtFinType2      26\n",
       "GarageCond        54\n",
       "GarageQual        54\n",
       "GarageFinish      54\n",
       "GarageType        54\n",
       "GarageYrBlt       54\n",
       "LotFrontage      190\n",
       "FireplaceQu      487\n",
       "Fence            820\n",
       "Alley            956\n",
       "MiscFeature      982\n",
       "PoolQC          1017\n",
       "dtype: int64"
      ]
     },
     "execution_count": 3554,
     "metadata": {},
     "output_type": "execute_result"
    }
   ],
   "source": [
    "xtrain_null.sort_values(ascending=True)"
   ]
  },
  {
   "cell_type": "markdown",
   "id": "90ce2af7",
   "metadata": {},
   "source": [
    " Remove the row where electrical is null"
   ]
  },
  {
   "cell_type": "code",
   "execution_count": 3555,
   "id": "06d9e178",
   "metadata": {},
   "outputs": [
    {
     "name": "stdout",
     "output_type": "stream",
     "text": [
      "[1379]\n"
     ]
    }
   ],
   "source": [
    "i=xtrain[xtrain[\"Electrical\"].isnull()].index.tolist()\n",
    "print(i)\n",
    "xtrain=xtrain.drop(i)\n",
    "ytrain=ytrain.drop(i)"
   ]
  },
  {
   "cell_type": "code",
   "execution_count": 3556,
   "id": "166cf5aa",
   "metadata": {},
   "outputs": [
    {
     "data": {
      "text/plain": [
       "(1021,)"
      ]
     },
     "execution_count": 3556,
     "metadata": {},
     "output_type": "execute_result"
    }
   ],
   "source": [
    "ytrain.shape"
   ]
  },
  {
   "cell_type": "code",
   "execution_count": 3557,
   "id": "8fe684a4",
   "metadata": {},
   "outputs": [],
   "source": [
    "xtrain_null= xtrain.isnull().sum()[xtrain.isnull().sum() > 0]"
   ]
  },
  {
   "cell_type": "markdown",
   "id": "6735e756",
   "metadata": {},
   "source": [
    "* ID column isn't usefull to predict a house price so I will remove it\n",
    "* GarageYrBlt has a lot of missing value, and we have a lot of other \n",
    "<br>\n",
    "  features related to the garage so I will remove it too "
   ]
  },
  {
   "cell_type": "code",
   "execution_count": 3558,
   "id": "c294e7b0",
   "metadata": {},
   "outputs": [],
   "source": [
    "def delete_columns(df):\n",
    "    df=df.drop([\"Id\",\"GarageYrBlt\"],axis=1)\n",
    "    return df"
   ]
  },
  {
   "cell_type": "code",
   "execution_count": 3559,
   "id": "6f6dbaca",
   "metadata": {},
   "outputs": [],
   "source": [
    "xtrain=delete_columns(xtrain)"
   ]
  },
  {
   "cell_type": "markdown",
   "id": "2dda718c",
   "metadata": {},
   "source": [
    "## Sort features by type"
   ]
  },
  {
   "cell_type": "code",
   "execution_count": 3560,
   "id": "ac8868b7",
   "metadata": {},
   "outputs": [],
   "source": [
    "categorical_features=[features for features in xtrain.columns if xtrain[features].dtype==\"O\"]\n",
    "numerical_features=[features for features in xtrain.columns if xtrain[features].dtype!=\"O\"]\n"
   ]
  },
  {
   "cell_type": "markdown",
   "id": "e8b26447",
   "metadata": {},
   "source": [
    "###  Update missing categorical values"
   ]
  },
  {
   "cell_type": "code",
   "execution_count": 3561,
   "id": "35953ac9",
   "metadata": {},
   "outputs": [
    {
     "data": {
      "text/plain": [
       "PoolQC           1016\n",
       "MiscFeature       981\n",
       "Alley             955\n",
       "Fence             819\n",
       "FireplaceQu       486\n",
       "GarageType         54\n",
       "GarageCond         54\n",
       "GarageQual         54\n",
       "GarageFinish       54\n",
       "BsmtFinType1       26\n",
       "BsmtFinType2       26\n",
       "BsmtQual           26\n",
       "BsmtExposure       26\n",
       "BsmtCond           26\n",
       "MasVnrType          3\n",
       "Functional          0\n",
       "KitchenQual         0\n",
       "Electrical          0\n",
       "CentralAir          0\n",
       "HeatingQC           0\n",
       "Heating             0\n",
       "PavedDrive          0\n",
       "SaleType            0\n",
       "MSZoning            0\n",
       "Street              0\n",
       "Condition2          0\n",
       "LotShape            0\n",
       "LandContour         0\n",
       "Utilities           0\n",
       "LotConfig           0\n",
       "LandSlope           0\n",
       "Neighborhood        0\n",
       "Condition1          0\n",
       "BldgType            0\n",
       "Foundation          0\n",
       "HouseStyle          0\n",
       "RoofStyle           0\n",
       "RoofMatl            0\n",
       "Exterior1st         0\n",
       "Exterior2nd         0\n",
       "ExterQual           0\n",
       "ExterCond           0\n",
       "SaleCondition       0\n",
       "dtype: int64"
      ]
     },
     "execution_count": 3561,
     "metadata": {},
     "output_type": "execute_result"
    }
   ],
   "source": [
    "\n",
    "xtrain[categorical_features].isnull().sum().sort_values(ascending=False)"
   ]
  },
  {
   "cell_type": "markdown",
   "id": "80638d7a",
   "metadata": {},
   "source": [
    "I chose to update with missing, because the fact that there is Null values means that its not existent for example a missing pool"
   ]
  },
  {
   "cell_type": "code",
   "execution_count": 3562,
   "id": "566a901d",
   "metadata": {},
   "outputs": [
    {
     "data": {
      "text/plain": [
       "LotFrontage      190\n",
       "MasVnrArea         3\n",
       "WoodDeckSF         0\n",
       "BedroomAbvGr       0\n",
       "KitchenAbvGr       0\n",
       "TotRmsAbvGrd       0\n",
       "Fireplaces         0\n",
       "GarageCars         0\n",
       "GarageArea         0\n",
       "MSSubClass         0\n",
       "HalfBath           0\n",
       "EnclosedPorch      0\n",
       "3SsnPorch          0\n",
       "ScreenPorch        0\n",
       "PoolArea           0\n",
       "MiscVal            0\n",
       "MoSold             0\n",
       "OpenPorchSF        0\n",
       "BsmtHalfBath       0\n",
       "FullBath           0\n",
       "BsmtFullBath       0\n",
       "GrLivArea          0\n",
       "LowQualFinSF       0\n",
       "2ndFlrSF           0\n",
       "1stFlrSF           0\n",
       "TotalBsmtSF        0\n",
       "BsmtUnfSF          0\n",
       "BsmtFinSF2         0\n",
       "BsmtFinSF1         0\n",
       "YearRemodAdd       0\n",
       "YearBuilt          0\n",
       "OverallCond        0\n",
       "OverallQual        0\n",
       "LotArea            0\n",
       "YrSold             0\n",
       "dtype: int64"
      ]
     },
     "execution_count": 3562,
     "metadata": {},
     "output_type": "execute_result"
    }
   ],
   "source": [
    "xtrain[numerical_features].isnull().sum().sort_values(ascending=False)"
   ]
  },
  {
   "cell_type": "code",
   "execution_count": 3563,
   "id": "1234c958",
   "metadata": {},
   "outputs": [],
   "source": [
    "xtrain[categorical_features]=xtrain[categorical_features].fillna(\"Missing\")\n",
    "xtrain[numerical_features]=xtrain[numerical_features].fillna(0)"
   ]
  },
  {
   "cell_type": "code",
   "execution_count": 3564,
   "id": "3a611af6",
   "metadata": {},
   "outputs": [],
   "source": [
    "xtrain_null= xtrain.isnull().sum()[xtrain.isnull().sum() > 0]"
   ]
  },
  {
   "cell_type": "markdown",
   "id": "d2e6cda1",
   "metadata": {},
   "source": [
    "## Duplicated rows"
   ]
  },
  {
   "cell_type": "code",
   "execution_count": 3565,
   "id": "4241575d",
   "metadata": {},
   "outputs": [
    {
     "data": {
      "text/html": [
       "<div>\n",
       "<style scoped>\n",
       "    .dataframe tbody tr th:only-of-type {\n",
       "        vertical-align: middle;\n",
       "    }\n",
       "\n",
       "    .dataframe tbody tr th {\n",
       "        vertical-align: top;\n",
       "    }\n",
       "\n",
       "    .dataframe thead th {\n",
       "        text-align: right;\n",
       "    }\n",
       "</style>\n",
       "<table border=\"1\" class=\"dataframe\">\n",
       "  <thead>\n",
       "    <tr style=\"text-align: right;\">\n",
       "      <th></th>\n",
       "      <th>MSSubClass</th>\n",
       "      <th>MSZoning</th>\n",
       "      <th>LotFrontage</th>\n",
       "      <th>LotArea</th>\n",
       "      <th>Street</th>\n",
       "      <th>Alley</th>\n",
       "      <th>LotShape</th>\n",
       "      <th>LandContour</th>\n",
       "      <th>Utilities</th>\n",
       "      <th>LotConfig</th>\n",
       "      <th>...</th>\n",
       "      <th>ScreenPorch</th>\n",
       "      <th>PoolArea</th>\n",
       "      <th>PoolQC</th>\n",
       "      <th>Fence</th>\n",
       "      <th>MiscFeature</th>\n",
       "      <th>MiscVal</th>\n",
       "      <th>MoSold</th>\n",
       "      <th>YrSold</th>\n",
       "      <th>SaleType</th>\n",
       "      <th>SaleCondition</th>\n",
       "    </tr>\n",
       "  </thead>\n",
       "  <tbody>\n",
       "  </tbody>\n",
       "</table>\n",
       "<p>0 rows × 78 columns</p>\n",
       "</div>"
      ],
      "text/plain": [
       "Empty DataFrame\n",
       "Columns: [MSSubClass, MSZoning, LotFrontage, LotArea, Street, Alley, LotShape, LandContour, Utilities, LotConfig, LandSlope, Neighborhood, Condition1, Condition2, BldgType, HouseStyle, OverallQual, OverallCond, YearBuilt, YearRemodAdd, RoofStyle, RoofMatl, Exterior1st, Exterior2nd, MasVnrType, MasVnrArea, ExterQual, ExterCond, Foundation, BsmtQual, BsmtCond, BsmtExposure, BsmtFinType1, BsmtFinSF1, BsmtFinType2, BsmtFinSF2, BsmtUnfSF, TotalBsmtSF, Heating, HeatingQC, CentralAir, Electrical, 1stFlrSF, 2ndFlrSF, LowQualFinSF, GrLivArea, BsmtFullBath, BsmtHalfBath, FullBath, HalfBath, BedroomAbvGr, KitchenAbvGr, KitchenQual, TotRmsAbvGrd, Functional, Fireplaces, FireplaceQu, GarageType, GarageFinish, GarageCars, GarageArea, GarageQual, GarageCond, PavedDrive, WoodDeckSF, OpenPorchSF, EnclosedPorch, 3SsnPorch, ScreenPorch, PoolArea, PoolQC, Fence, MiscFeature, MiscVal, MoSold, YrSold, SaleType, SaleCondition]\n",
       "Index: []\n",
       "\n",
       "[0 rows x 78 columns]"
      ]
     },
     "execution_count": 3565,
     "metadata": {},
     "output_type": "execute_result"
    }
   ],
   "source": [
    "xtrain[xtrain.duplicated()==True]"
   ]
  },
  {
   "cell_type": "markdown",
   "id": "b6152496",
   "metadata": {},
   "source": [
    "There is no duplicated rows"
   ]
  },
  {
   "cell_type": "markdown",
   "id": "b83544fb",
   "metadata": {},
   "source": [
    "## Count all columns  unique values"
   ]
  },
  {
   "cell_type": "code",
   "execution_count": 3566,
   "id": "10c2d273",
   "metadata": {},
   "outputs": [
    {
     "name": "stderr",
     "output_type": "stream",
     "text": [
      "C:\\Users\\patri\\miniconda3\\envs\\myvenv1\\lib\\site-packages\\IPython\\core\\displayhook.py:275: UserWarning: Output cache limit (currently 1000 entries) hit.\n",
      "Flushing oldest 200 entries.\n",
      "  warn('Output cache limit (currently {sz} entries) hit.\\n'\n"
     ]
    },
    {
     "data": {
      "text/plain": [
       "CentralAir       2\n",
       "Street           2\n",
       "Utilities        2\n",
       "PavedDrive       3\n",
       "HalfBath         3\n",
       "              ... \n",
       "TotalBsmtSF    582\n",
       "1stFlrSF       605\n",
       "BsmtUnfSF      631\n",
       "GrLivArea      679\n",
       "LotArea        796\n",
       "Length: 78, dtype: int64"
      ]
     },
     "execution_count": 3566,
     "metadata": {},
     "output_type": "execute_result"
    }
   ],
   "source": [
    "xtrain.nunique().sort_values(ascending=True)"
   ]
  },
  {
   "cell_type": "markdown",
   "id": "bf991abd",
   "metadata": {},
   "source": [
    "## Count numerical columns  unique values"
   ]
  },
  {
   "cell_type": "code",
   "execution_count": 3567,
   "id": "30560db5",
   "metadata": {},
   "outputs": [
    {
     "data": {
      "text/html": [
       "<div>\n",
       "<style scoped>\n",
       "    .dataframe tbody tr th:only-of-type {\n",
       "        vertical-align: middle;\n",
       "    }\n",
       "\n",
       "    .dataframe tbody tr th {\n",
       "        vertical-align: top;\n",
       "    }\n",
       "\n",
       "    .dataframe thead th {\n",
       "        text-align: right;\n",
       "    }\n",
       "</style>\n",
       "<table border=\"1\" class=\"dataframe\">\n",
       "  <thead>\n",
       "    <tr style=\"text-align: right;\">\n",
       "      <th></th>\n",
       "      <th>MSSubClass</th>\n",
       "      <th>LotFrontage</th>\n",
       "      <th>LotArea</th>\n",
       "      <th>OverallQual</th>\n",
       "      <th>OverallCond</th>\n",
       "      <th>YearBuilt</th>\n",
       "      <th>YearRemodAdd</th>\n",
       "      <th>MasVnrArea</th>\n",
       "      <th>BsmtFinSF1</th>\n",
       "      <th>BsmtFinSF2</th>\n",
       "      <th>...</th>\n",
       "      <th>GarageArea</th>\n",
       "      <th>WoodDeckSF</th>\n",
       "      <th>OpenPorchSF</th>\n",
       "      <th>EnclosedPorch</th>\n",
       "      <th>3SsnPorch</th>\n",
       "      <th>ScreenPorch</th>\n",
       "      <th>PoolArea</th>\n",
       "      <th>MiscVal</th>\n",
       "      <th>MoSold</th>\n",
       "      <th>YrSold</th>\n",
       "    </tr>\n",
       "  </thead>\n",
       "  <tbody>\n",
       "    <tr>\n",
       "      <th>135</th>\n",
       "      <td>20</td>\n",
       "      <td>80.0</td>\n",
       "      <td>10400</td>\n",
       "      <td>7</td>\n",
       "      <td>6</td>\n",
       "      <td>1970</td>\n",
       "      <td>1970</td>\n",
       "      <td>288.0</td>\n",
       "      <td>0</td>\n",
       "      <td>0</td>\n",
       "      <td>...</td>\n",
       "      <td>530</td>\n",
       "      <td>98</td>\n",
       "      <td>0</td>\n",
       "      <td>0</td>\n",
       "      <td>0</td>\n",
       "      <td>0</td>\n",
       "      <td>0</td>\n",
       "      <td>0</td>\n",
       "      <td>5</td>\n",
       "      <td>2008</td>\n",
       "    </tr>\n",
       "    <tr>\n",
       "      <th>1452</th>\n",
       "      <td>180</td>\n",
       "      <td>35.0</td>\n",
       "      <td>3675</td>\n",
       "      <td>5</td>\n",
       "      <td>5</td>\n",
       "      <td>2005</td>\n",
       "      <td>2005</td>\n",
       "      <td>80.0</td>\n",
       "      <td>547</td>\n",
       "      <td>0</td>\n",
       "      <td>...</td>\n",
       "      <td>525</td>\n",
       "      <td>0</td>\n",
       "      <td>28</td>\n",
       "      <td>0</td>\n",
       "      <td>0</td>\n",
       "      <td>0</td>\n",
       "      <td>0</td>\n",
       "      <td>0</td>\n",
       "      <td>5</td>\n",
       "      <td>2006</td>\n",
       "    </tr>\n",
       "    <tr>\n",
       "      <th>762</th>\n",
       "      <td>60</td>\n",
       "      <td>72.0</td>\n",
       "      <td>8640</td>\n",
       "      <td>7</td>\n",
       "      <td>5</td>\n",
       "      <td>2009</td>\n",
       "      <td>2009</td>\n",
       "      <td>0.0</td>\n",
       "      <td>24</td>\n",
       "      <td>0</td>\n",
       "      <td>...</td>\n",
       "      <td>614</td>\n",
       "      <td>169</td>\n",
       "      <td>45</td>\n",
       "      <td>0</td>\n",
       "      <td>0</td>\n",
       "      <td>0</td>\n",
       "      <td>0</td>\n",
       "      <td>0</td>\n",
       "      <td>6</td>\n",
       "      <td>2010</td>\n",
       "    </tr>\n",
       "    <tr>\n",
       "      <th>932</th>\n",
       "      <td>20</td>\n",
       "      <td>84.0</td>\n",
       "      <td>11670</td>\n",
       "      <td>9</td>\n",
       "      <td>5</td>\n",
       "      <td>2006</td>\n",
       "      <td>2006</td>\n",
       "      <td>302.0</td>\n",
       "      <td>0</td>\n",
       "      <td>0</td>\n",
       "      <td>...</td>\n",
       "      <td>788</td>\n",
       "      <td>0</td>\n",
       "      <td>191</td>\n",
       "      <td>0</td>\n",
       "      <td>0</td>\n",
       "      <td>0</td>\n",
       "      <td>0</td>\n",
       "      <td>0</td>\n",
       "      <td>3</td>\n",
       "      <td>2007</td>\n",
       "    </tr>\n",
       "    <tr>\n",
       "      <th>435</th>\n",
       "      <td>60</td>\n",
       "      <td>43.0</td>\n",
       "      <td>10667</td>\n",
       "      <td>7</td>\n",
       "      <td>6</td>\n",
       "      <td>1996</td>\n",
       "      <td>1996</td>\n",
       "      <td>0.0</td>\n",
       "      <td>385</td>\n",
       "      <td>344</td>\n",
       "      <td>...</td>\n",
       "      <td>550</td>\n",
       "      <td>158</td>\n",
       "      <td>61</td>\n",
       "      <td>0</td>\n",
       "      <td>0</td>\n",
       "      <td>0</td>\n",
       "      <td>0</td>\n",
       "      <td>0</td>\n",
       "      <td>4</td>\n",
       "      <td>2009</td>\n",
       "    </tr>\n",
       "    <tr>\n",
       "      <th>...</th>\n",
       "      <td>...</td>\n",
       "      <td>...</td>\n",
       "      <td>...</td>\n",
       "      <td>...</td>\n",
       "      <td>...</td>\n",
       "      <td>...</td>\n",
       "      <td>...</td>\n",
       "      <td>...</td>\n",
       "      <td>...</td>\n",
       "      <td>...</td>\n",
       "      <td>...</td>\n",
       "      <td>...</td>\n",
       "      <td>...</td>\n",
       "      <td>...</td>\n",
       "      <td>...</td>\n",
       "      <td>...</td>\n",
       "      <td>...</td>\n",
       "      <td>...</td>\n",
       "      <td>...</td>\n",
       "      <td>...</td>\n",
       "      <td>...</td>\n",
       "    </tr>\n",
       "    <tr>\n",
       "      <th>1095</th>\n",
       "      <td>20</td>\n",
       "      <td>78.0</td>\n",
       "      <td>9317</td>\n",
       "      <td>6</td>\n",
       "      <td>5</td>\n",
       "      <td>2006</td>\n",
       "      <td>2006</td>\n",
       "      <td>0.0</td>\n",
       "      <td>24</td>\n",
       "      <td>0</td>\n",
       "      <td>...</td>\n",
       "      <td>440</td>\n",
       "      <td>0</td>\n",
       "      <td>22</td>\n",
       "      <td>0</td>\n",
       "      <td>0</td>\n",
       "      <td>0</td>\n",
       "      <td>0</td>\n",
       "      <td>0</td>\n",
       "      <td>3</td>\n",
       "      <td>2007</td>\n",
       "    </tr>\n",
       "    <tr>\n",
       "      <th>1130</th>\n",
       "      <td>50</td>\n",
       "      <td>65.0</td>\n",
       "      <td>7804</td>\n",
       "      <td>4</td>\n",
       "      <td>3</td>\n",
       "      <td>1928</td>\n",
       "      <td>1950</td>\n",
       "      <td>0.0</td>\n",
       "      <td>622</td>\n",
       "      <td>0</td>\n",
       "      <td>...</td>\n",
       "      <td>576</td>\n",
       "      <td>431</td>\n",
       "      <td>44</td>\n",
       "      <td>0</td>\n",
       "      <td>0</td>\n",
       "      <td>0</td>\n",
       "      <td>0</td>\n",
       "      <td>0</td>\n",
       "      <td>12</td>\n",
       "      <td>2009</td>\n",
       "    </tr>\n",
       "    <tr>\n",
       "      <th>1294</th>\n",
       "      <td>20</td>\n",
       "      <td>60.0</td>\n",
       "      <td>8172</td>\n",
       "      <td>5</td>\n",
       "      <td>7</td>\n",
       "      <td>1955</td>\n",
       "      <td>1990</td>\n",
       "      <td>0.0</td>\n",
       "      <td>167</td>\n",
       "      <td>0</td>\n",
       "      <td>...</td>\n",
       "      <td>572</td>\n",
       "      <td>0</td>\n",
       "      <td>0</td>\n",
       "      <td>0</td>\n",
       "      <td>0</td>\n",
       "      <td>0</td>\n",
       "      <td>0</td>\n",
       "      <td>0</td>\n",
       "      <td>4</td>\n",
       "      <td>2006</td>\n",
       "    </tr>\n",
       "    <tr>\n",
       "      <th>860</th>\n",
       "      <td>50</td>\n",
       "      <td>55.0</td>\n",
       "      <td>7642</td>\n",
       "      <td>7</td>\n",
       "      <td>8</td>\n",
       "      <td>1918</td>\n",
       "      <td>1998</td>\n",
       "      <td>0.0</td>\n",
       "      <td>0</td>\n",
       "      <td>0</td>\n",
       "      <td>...</td>\n",
       "      <td>216</td>\n",
       "      <td>0</td>\n",
       "      <td>240</td>\n",
       "      <td>0</td>\n",
       "      <td>0</td>\n",
       "      <td>0</td>\n",
       "      <td>0</td>\n",
       "      <td>0</td>\n",
       "      <td>6</td>\n",
       "      <td>2007</td>\n",
       "    </tr>\n",
       "    <tr>\n",
       "      <th>1126</th>\n",
       "      <td>120</td>\n",
       "      <td>53.0</td>\n",
       "      <td>3684</td>\n",
       "      <td>7</td>\n",
       "      <td>5</td>\n",
       "      <td>2007</td>\n",
       "      <td>2007</td>\n",
       "      <td>130.0</td>\n",
       "      <td>0</td>\n",
       "      <td>0</td>\n",
       "      <td>...</td>\n",
       "      <td>660</td>\n",
       "      <td>143</td>\n",
       "      <td>20</td>\n",
       "      <td>0</td>\n",
       "      <td>0</td>\n",
       "      <td>0</td>\n",
       "      <td>0</td>\n",
       "      <td>0</td>\n",
       "      <td>6</td>\n",
       "      <td>2009</td>\n",
       "    </tr>\n",
       "  </tbody>\n",
       "</table>\n",
       "<p>1021 rows × 35 columns</p>\n",
       "</div>"
      ],
      "text/plain": [
       "      MSSubClass  LotFrontage  LotArea  OverallQual  OverallCond  YearBuilt  \\\n",
       "135           20         80.0    10400            7            6       1970   \n",
       "1452         180         35.0     3675            5            5       2005   \n",
       "762           60         72.0     8640            7            5       2009   \n",
       "932           20         84.0    11670            9            5       2006   \n",
       "435           60         43.0    10667            7            6       1996   \n",
       "...          ...          ...      ...          ...          ...        ...   \n",
       "1095          20         78.0     9317            6            5       2006   \n",
       "1130          50         65.0     7804            4            3       1928   \n",
       "1294          20         60.0     8172            5            7       1955   \n",
       "860           50         55.0     7642            7            8       1918   \n",
       "1126         120         53.0     3684            7            5       2007   \n",
       "\n",
       "      YearRemodAdd  MasVnrArea  BsmtFinSF1  BsmtFinSF2  ...  GarageArea  \\\n",
       "135           1970       288.0           0           0  ...         530   \n",
       "1452          2005        80.0         547           0  ...         525   \n",
       "762           2009         0.0          24           0  ...         614   \n",
       "932           2006       302.0           0           0  ...         788   \n",
       "435           1996         0.0         385         344  ...         550   \n",
       "...            ...         ...         ...         ...  ...         ...   \n",
       "1095          2006         0.0          24           0  ...         440   \n",
       "1130          1950         0.0         622           0  ...         576   \n",
       "1294          1990         0.0         167           0  ...         572   \n",
       "860           1998         0.0           0           0  ...         216   \n",
       "1126          2007       130.0           0           0  ...         660   \n",
       "\n",
       "      WoodDeckSF  OpenPorchSF  EnclosedPorch  3SsnPorch  ScreenPorch  \\\n",
       "135           98            0              0          0            0   \n",
       "1452           0           28              0          0            0   \n",
       "762          169           45              0          0            0   \n",
       "932            0          191              0          0            0   \n",
       "435          158           61              0          0            0   \n",
       "...          ...          ...            ...        ...          ...   \n",
       "1095           0           22              0          0            0   \n",
       "1130         431           44              0          0            0   \n",
       "1294           0            0              0          0            0   \n",
       "860            0          240              0          0            0   \n",
       "1126         143           20              0          0            0   \n",
       "\n",
       "      PoolArea  MiscVal  MoSold  YrSold  \n",
       "135          0        0       5    2008  \n",
       "1452         0        0       5    2006  \n",
       "762          0        0       6    2010  \n",
       "932          0        0       3    2007  \n",
       "435          0        0       4    2009  \n",
       "...        ...      ...     ...     ...  \n",
       "1095         0        0       3    2007  \n",
       "1130         0        0      12    2009  \n",
       "1294         0        0       4    2006  \n",
       "860          0        0       6    2007  \n",
       "1126         0        0       6    2009  \n",
       "\n",
       "[1021 rows x 35 columns]"
      ]
     },
     "execution_count": 3567,
     "metadata": {},
     "output_type": "execute_result"
    }
   ],
   "source": [
    "xtrain[numerical_features]"
   ]
  },
  {
   "cell_type": "code",
   "execution_count": 3568,
   "id": "71aae824",
   "metadata": {},
   "outputs": [
    {
     "data": {
      "text/plain": [
       "MSSubClass       1.821973e+03\n",
       "LotFrontage      1.281957e+03\n",
       "LotArea          1.284882e+08\n",
       "OverallQual      1.881308e+00\n",
       "OverallCond      1.234234e+00\n",
       "YearBuilt        9.452141e+02\n",
       "YearRemodAdd     4.303790e+02\n",
       "MasVnrArea       2.979115e+04\n",
       "BsmtFinSF1       2.115855e+05\n",
       "BsmtFinSF2       2.288528e+04\n",
       "BsmtUnfSF        1.990807e+05\n",
       "TotalBsmtSF      1.999358e+05\n",
       "1stFlrSF         1.517288e+05\n",
       "2ndFlrSF         1.947016e+05\n",
       "LowQualFinSF     2.301382e+03\n",
       "GrLivArea        2.821895e+05\n",
       "BsmtFullBath     2.698181e-01\n",
       "BsmtHalfBath     5.819170e-02\n",
       "FullBath         2.964913e-01\n",
       "HalfBath         2.441935e-01\n",
       "BedroomAbvGr     6.585431e-01\n",
       "KitchenAbvGr     4.502698e-02\n",
       "TotRmsAbvGrd     2.660022e+00\n",
       "Fireplaces       4.234872e-01\n",
       "GarageCars       5.344741e-01\n",
       "GarageArea       4.348537e+04\n",
       "WoodDeckSF       1.735975e+04\n",
       "OpenPorchSF      4.791755e+03\n",
       "EnclosedPorch    3.789747e+03\n",
       "3SsnPorch        1.060378e+03\n",
       "ScreenPorch      3.189008e+03\n",
       "PoolArea         1.575366e+03\n",
       "MiscVal          1.144439e+05\n",
       "MoSold           7.028169e+00\n",
       "YrSold           1.759453e+00\n",
       "dtype: float64"
      ]
     },
     "execution_count": 3568,
     "metadata": {},
     "output_type": "execute_result"
    }
   ],
   "source": [
    "xtrain[numerical_features].var()"
   ]
  },
  {
   "cell_type": "markdown",
   "id": "b3e53afa",
   "metadata": {},
   "source": [
    "No columns has only one value so for now we keep all of them"
   ]
  },
  {
   "cell_type": "markdown",
   "id": "eee1688e",
   "metadata": {},
   "source": [
    "## Divide features by type"
   ]
  },
  {
   "cell_type": "code",
   "execution_count": 3569,
   "id": "296d4d40",
   "metadata": {},
   "outputs": [],
   "source": [
    "def divide_by_type(df):  \n",
    "    categorical_features=[features for features in df.columns if df[features].dtype==\"O\"]\n",
    "    numerical_features=[features for features in df.columns if df[features].dtype!=\"O\"]\n",
    "    date_features=[features for features in df.columns if \"Yr\" in features or \"Year\" in features or \"Mo\" in features]\n",
    "    features=[]\n",
    "    for feature in numerical_features:\n",
    "        if feature not in date_features:\n",
    "            features.append(feature)\n",
    "    numerical_features=features\n",
    "    return categorical_features,numerical_features,date_features\n",
    "\n",
    "categorical_features,numerical_features,date_features=divide_by_type(xtrain)"
   ]
  },
  {
   "cell_type": "markdown",
   "id": "022163c3",
   "metadata": {},
   "source": [
    "## Ordinal Features"
   ]
  },
  {
   "cell_type": "code",
   "execution_count": 3570,
   "id": "54072476",
   "metadata": {},
   "outputs": [],
   "source": [
    "ordinal_numerical_features=xtrain[numerical_features].max()[xtrain[numerical_features].max() <= 14].index.tolist()\n",
    "ordinal_features=[features for features in xtrain.columns if re.search('Qu$',features) or re.search('QC',features) or re.search('Qual$',features) or re.search('Cond$',features)]\n",
    "ordinal_categorical_features=[features for features in ordinal_features if xtrain[features].dtype==\"O\"]"
   ]
  },
  {
   "cell_type": "code",
   "execution_count": 3571,
   "id": "c73c0437",
   "metadata": {},
   "outputs": [
    {
     "name": "stdout",
     "output_type": "stream",
     "text": [
      "MSSubClass\n",
      "LotFrontage\n",
      "LotArea\n",
      "MasVnrArea\n",
      "BsmtFinSF1\n",
      "BsmtFinSF2\n",
      "BsmtUnfSF\n",
      "TotalBsmtSF\n",
      "1stFlrSF\n",
      "2ndFlrSF\n",
      "LowQualFinSF\n",
      "GrLivArea\n",
      "GarageArea\n",
      "WoodDeckSF\n",
      "OpenPorchSF\n",
      "EnclosedPorch\n",
      "3SsnPorch\n",
      "ScreenPorch\n",
      "PoolArea\n",
      "MiscVal\n"
     ]
    }
   ],
   "source": [
    "l=[]\n",
    "for feature in numerical_features:\n",
    "    if feature not in (ordinal_categorical_features + ordinal_numerical_features):\n",
    "        print(feature)\n",
    "        l.append(feature)\n",
    "\n",
    "\n",
    "\n",
    "\n",
    "s=[]\n",
    "for feature in categorical_features:\n",
    "\n",
    "    if feature not in ordinal_categorical_features + ordinal_numerical_features:\n",
    "        \n",
    "        s.append(feature)\n",
    "        \n",
    "\n",
    "        \n",
    "        \n",
    "numerical_features=l\n",
    "categorical_features=s"
   ]
  },
  {
   "cell_type": "code",
   "execution_count": null,
   "id": "77352249",
   "metadata": {},
   "outputs": [],
   "source": []
  },
  {
   "cell_type": "code",
   "execution_count": 3572,
   "id": "a62f6cf3",
   "metadata": {},
   "outputs": [
    {
     "data": {
      "text/plain": [
       "['ExterQual',\n",
       " 'ExterCond',\n",
       " 'BsmtQual',\n",
       " 'BsmtCond',\n",
       " 'HeatingQC',\n",
       " 'KitchenQual',\n",
       " 'FireplaceQu',\n",
       " 'GarageQual',\n",
       " 'GarageCond',\n",
       " 'PoolQC']"
      ]
     },
     "execution_count": 3572,
     "metadata": {},
     "output_type": "execute_result"
    }
   ],
   "source": [
    "ordinal_categorical_features"
   ]
  },
  {
   "cell_type": "code",
   "execution_count": 3573,
   "id": "69d87225",
   "metadata": {},
   "outputs": [
    {
     "data": {
      "text/plain": [
       "['MSSubClass',\n",
       " 'LotFrontage',\n",
       " 'LotArea',\n",
       " 'MasVnrArea',\n",
       " 'BsmtFinSF1',\n",
       " 'BsmtFinSF2',\n",
       " 'BsmtUnfSF',\n",
       " 'TotalBsmtSF',\n",
       " '1stFlrSF',\n",
       " '2ndFlrSF',\n",
       " 'LowQualFinSF',\n",
       " 'GrLivArea',\n",
       " 'GarageArea',\n",
       " 'WoodDeckSF',\n",
       " 'OpenPorchSF',\n",
       " 'EnclosedPorch',\n",
       " '3SsnPorch',\n",
       " 'ScreenPorch',\n",
       " 'PoolArea',\n",
       " 'MiscVal']"
      ]
     },
     "execution_count": 3573,
     "metadata": {},
     "output_type": "execute_result"
    }
   ],
   "source": [
    "numerical_features"
   ]
  },
  {
   "cell_type": "code",
   "execution_count": 3574,
   "id": "f2edde7f",
   "metadata": {},
   "outputs": [],
   "source": [
    "ordinal_numerical_features.remove(\"GarageCars\")"
   ]
  },
  {
   "cell_type": "code",
   "execution_count": 3575,
   "id": "e4711188",
   "metadata": {},
   "outputs": [],
   "source": [
    "numerical_features=xtrain[numerical_features].var()[xtrain[numerical_features].var() >= 1].index.tolist()"
   ]
  },
  {
   "cell_type": "markdown",
   "id": "cf286233",
   "metadata": {},
   "source": [
    "## Outliers for future testing"
   ]
  },
  {
   "cell_type": "code",
   "execution_count": 3576,
   "id": "da067828",
   "metadata": {},
   "outputs": [],
   "source": [
    "dict_outlier={}\n",
    "for feature in numerical_features:\n",
    "    # calculate summary statistics\n",
    "    data_mean, data_std = xtrain[feature].mean(), xtrain[feature].std()\n",
    "    # define outliers\n",
    "    cut_off = data_std * 3\n",
    "    lower, upper = data_mean - cut_off, data_mean + cut_off\n",
    "    dict_outlier[feature]=xtrain[(xtrain[feature] < lower) | (xtrain[feature] > upper) ].index.tolist()\n"
   ]
  },
  {
   "cell_type": "markdown",
   "id": "cfe9016c",
   "metadata": {},
   "source": [
    "## Feature Selection"
   ]
  },
  {
   "cell_type": "markdown",
   "id": "1548d9e9",
   "metadata": {},
   "source": [
    "### Numerical Features "
   ]
  },
  {
   "cell_type": "code",
   "execution_count": 3577,
   "id": "0c21ad31",
   "metadata": {},
   "outputs": [],
   "source": [
    "corr=r_regression(xtrain[numerical_features],ytrain)\n",
    "result=np.where(corr > 0.5)[0].tolist()"
   ]
  },
  {
   "cell_type": "code",
   "execution_count": 3578,
   "id": "b9b0a712",
   "metadata": {},
   "outputs": [
    {
     "data": {
      "text/plain": [
       "['MSSubClass',\n",
       " 'LotFrontage',\n",
       " 'LotArea',\n",
       " 'MasVnrArea',\n",
       " 'BsmtFinSF1',\n",
       " 'BsmtFinSF2',\n",
       " 'BsmtUnfSF',\n",
       " 'TotalBsmtSF',\n",
       " '1stFlrSF',\n",
       " '2ndFlrSF',\n",
       " 'LowQualFinSF',\n",
       " 'GrLivArea',\n",
       " 'GarageArea',\n",
       " 'WoodDeckSF',\n",
       " 'OpenPorchSF',\n",
       " 'EnclosedPorch',\n",
       " '3SsnPorch',\n",
       " 'ScreenPorch',\n",
       " 'PoolArea',\n",
       " 'MiscVal']"
      ]
     },
     "execution_count": 3578,
     "metadata": {},
     "output_type": "execute_result"
    }
   ],
   "source": [
    "numerical_features"
   ]
  },
  {
   "cell_type": "code",
   "execution_count": 3579,
   "id": "a10ba128",
   "metadata": {},
   "outputs": [
    {
     "name": "stdout",
     "output_type": "stream",
     "text": [
      "MSSubClass\n",
      "LotFrontage\n",
      "LotArea\n",
      "MasVnrArea\n",
      "BsmtFinSF1\n",
      "BsmtFinSF2\n",
      "BsmtUnfSF\n",
      "TotalBsmtSF\n",
      "1stFlrSF\n",
      "2ndFlrSF\n",
      "LowQualFinSF\n",
      "GrLivArea\n",
      "GarageArea\n",
      "WoodDeckSF\n",
      "OpenPorchSF\n",
      "EnclosedPorch\n",
      "3SsnPorch\n",
      "ScreenPorch\n",
      "PoolArea\n",
      "MiscVal\n"
     ]
    },
    {
     "data": {
      "text/plain": [
       "['TotalBsmtSF', '1stFlrSF', 'GrLivArea', 'GarageArea']"
      ]
     },
     "execution_count": 3579,
     "metadata": {},
     "output_type": "execute_result"
    }
   ],
   "source": [
    "selected_numerical_features=[]\n",
    "for feature in numerical_features:\n",
    "    print(feature)\n",
    "    if numerical_features.index(feature) in result:\n",
    "        selected_numerical_features.append(feature)\n",
    "selected_numerical_features"
   ]
  },
  {
   "cell_type": "markdown",
   "id": "a3cab8cf",
   "metadata": {},
   "source": [
    "For ordinal_numerical_features we could have used the spearman correlation because it'is based on ranks"
   ]
  },
  {
   "cell_type": "code",
   "execution_count": 3580,
   "id": "c6fdb0d4",
   "metadata": {},
   "outputs": [],
   "source": [
    "corr=r_regression(xtrain[ordinal_numerical_features],ytrain)\n",
    "result1=np.where(corr > 0.5)[0].tolist()\n"
   ]
  },
  {
   "cell_type": "code",
   "execution_count": 3581,
   "id": "09872059",
   "metadata": {},
   "outputs": [
    {
     "data": {
      "text/plain": [
       "['OverallQual', 'FullBath', 'TotRmsAbvGrd']"
      ]
     },
     "execution_count": 3581,
     "metadata": {},
     "output_type": "execute_result"
    }
   ],
   "source": [
    "selected_numerical_ordinal_features=[]\n",
    "for feature in ordinal_numerical_features:\n",
    "    if ordinal_numerical_features.index(feature) in result1:\n",
    "        selected_numerical_ordinal_features.append(feature)\n",
    "selected_numerical_ordinal_features"
   ]
  },
  {
   "cell_type": "code",
   "execution_count": 3582,
   "id": "16a2db60",
   "metadata": {},
   "outputs": [],
   "source": [
    "corr=r_regression(xtrain[date_features],ytrain)\n",
    "result2=np.where(corr > 0.5)[0].tolist()"
   ]
  },
  {
   "cell_type": "code",
   "execution_count": 3583,
   "id": "75214819",
   "metadata": {},
   "outputs": [
    {
     "data": {
      "text/plain": [
       "['YearBuilt', 'YearRemodAdd']"
      ]
     },
     "execution_count": 3583,
     "metadata": {},
     "output_type": "execute_result"
    }
   ],
   "source": [
    "selected_date_features=[]\n",
    "for feature in date_features:\n",
    "    if date_features.index(feature) in result2:\n",
    "        selected_date_features.append(feature)\n",
    "selected_date_features"
   ]
  },
  {
   "cell_type": "markdown",
   "id": "be8ee063",
   "metadata": {},
   "source": [
    "## Categorical Features"
   ]
  },
  {
   "cell_type": "code",
   "execution_count": 3584,
   "id": "db7c7e6f",
   "metadata": {},
   "outputs": [],
   "source": [
    "dict_enc1={}\n",
    "for feature in ordinal_categorical_features:\n",
    "    enc = OrdinalEncoder(handle_unknown='use_encoded_value',unknown_value=100)\n",
    "    enc.fit(xtrain[[feature]])\n",
    "    dict_enc1[feature]=enc\n"
   ]
  },
  {
   "cell_type": "code",
   "execution_count": 3585,
   "id": "6e06189d",
   "metadata": {},
   "outputs": [],
   "source": [
    "dict_enc={}\n",
    "for feature in categorical_features:\n",
    "    enc = OrdinalEncoder(handle_unknown='use_encoded_value',unknown_value=100)\n",
    "    enc.fit(xtrain[[feature]])\n",
    "    dict_enc[feature]=enc"
   ]
  },
  {
   "cell_type": "code",
   "execution_count": 3586,
   "id": "c0406012",
   "metadata": {},
   "outputs": [],
   "source": [
    "def transform_cat(df1):\n",
    "    list_name=[]\n",
    "    for feature,enc in dict_enc.items():\n",
    "        x=enc.transform(df1[[feature]])\n",
    "        df1[feature]=x\n",
    "        \n",
    "    return df1\n",
    "cat=transform_cat(xtrain)"
   ]
  },
  {
   "cell_type": "code",
   "execution_count": 3587,
   "id": "efdcb49a",
   "metadata": {},
   "outputs": [
    {
     "data": {
      "text/plain": [
       "135     TA\n",
       "1452    TA\n",
       "762     TA\n",
       "932     TA\n",
       "435     TA\n",
       "        ..\n",
       "1095    TA\n",
       "1130    TA\n",
       "1294    TA\n",
       "860     TA\n",
       "1126    TA\n",
       "Name: ExterCond, Length: 1021, dtype: object"
      ]
     },
     "execution_count": 3587,
     "metadata": {},
     "output_type": "execute_result"
    }
   ],
   "source": [
    "cat[\"ExterCond\"]"
   ]
  },
  {
   "cell_type": "code",
   "execution_count": 3588,
   "id": "1cd57eee",
   "metadata": {},
   "outputs": [],
   "source": [
    "def transform_ord(df1):\n",
    "    for feature,enc1 in dict_enc1.items():\n",
    "\n",
    "        x=enc1.transform(df1[[feature]])\n",
    "        df1[feature]=x\n",
    "    return df1\n",
    "ordinal=transform_ord(xtrain)\n"
   ]
  },
  {
   "cell_type": "code",
   "execution_count": 3589,
   "id": "df462f77",
   "metadata": {},
   "outputs": [
    {
     "data": {
      "text/html": [
       "<div>\n",
       "<style scoped>\n",
       "    .dataframe tbody tr th:only-of-type {\n",
       "        vertical-align: middle;\n",
       "    }\n",
       "\n",
       "    .dataframe tbody tr th {\n",
       "        vertical-align: top;\n",
       "    }\n",
       "\n",
       "    .dataframe thead th {\n",
       "        text-align: right;\n",
       "    }\n",
       "</style>\n",
       "<table border=\"1\" class=\"dataframe\">\n",
       "  <thead>\n",
       "    <tr style=\"text-align: right;\">\n",
       "      <th></th>\n",
       "      <th>ExterQual</th>\n",
       "      <th>ExterCond</th>\n",
       "      <th>BsmtQual</th>\n",
       "      <th>BsmtCond</th>\n",
       "      <th>HeatingQC</th>\n",
       "      <th>KitchenQual</th>\n",
       "      <th>FireplaceQu</th>\n",
       "      <th>GarageQual</th>\n",
       "      <th>GarageCond</th>\n",
       "      <th>PoolQC</th>\n",
       "    </tr>\n",
       "  </thead>\n",
       "  <tbody>\n",
       "    <tr>\n",
       "      <th>135</th>\n",
       "      <td>3.0</td>\n",
       "      <td>4.0</td>\n",
       "      <td>4.0</td>\n",
       "      <td>4.0</td>\n",
       "      <td>2.0</td>\n",
       "      <td>3.0</td>\n",
       "      <td>2.0</td>\n",
       "      <td>5.0</td>\n",
       "      <td>5.0</td>\n",
       "      <td>3.0</td>\n",
       "    </tr>\n",
       "    <tr>\n",
       "      <th>1452</th>\n",
       "      <td>3.0</td>\n",
       "      <td>4.0</td>\n",
       "      <td>2.0</td>\n",
       "      <td>4.0</td>\n",
       "      <td>2.0</td>\n",
       "      <td>3.0</td>\n",
       "      <td>3.0</td>\n",
       "      <td>5.0</td>\n",
       "      <td>5.0</td>\n",
       "      <td>3.0</td>\n",
       "    </tr>\n",
       "    <tr>\n",
       "      <th>762</th>\n",
       "      <td>3.0</td>\n",
       "      <td>4.0</td>\n",
       "      <td>2.0</td>\n",
       "      <td>4.0</td>\n",
       "      <td>0.0</td>\n",
       "      <td>2.0</td>\n",
       "      <td>3.0</td>\n",
       "      <td>5.0</td>\n",
       "      <td>5.0</td>\n",
       "      <td>3.0</td>\n",
       "    </tr>\n",
       "    <tr>\n",
       "      <th>932</th>\n",
       "      <td>0.0</td>\n",
       "      <td>4.0</td>\n",
       "      <td>0.0</td>\n",
       "      <td>1.0</td>\n",
       "      <td>0.0</td>\n",
       "      <td>0.0</td>\n",
       "      <td>2.0</td>\n",
       "      <td>5.0</td>\n",
       "      <td>5.0</td>\n",
       "      <td>3.0</td>\n",
       "    </tr>\n",
       "    <tr>\n",
       "      <th>435</th>\n",
       "      <td>2.0</td>\n",
       "      <td>4.0</td>\n",
       "      <td>2.0</td>\n",
       "      <td>4.0</td>\n",
       "      <td>0.0</td>\n",
       "      <td>2.0</td>\n",
       "      <td>5.0</td>\n",
       "      <td>5.0</td>\n",
       "      <td>5.0</td>\n",
       "      <td>3.0</td>\n",
       "    </tr>\n",
       "    <tr>\n",
       "      <th>...</th>\n",
       "      <td>...</td>\n",
       "      <td>...</td>\n",
       "      <td>...</td>\n",
       "      <td>...</td>\n",
       "      <td>...</td>\n",
       "      <td>...</td>\n",
       "      <td>...</td>\n",
       "      <td>...</td>\n",
       "      <td>...</td>\n",
       "      <td>...</td>\n",
       "    </tr>\n",
       "    <tr>\n",
       "      <th>1095</th>\n",
       "      <td>2.0</td>\n",
       "      <td>4.0</td>\n",
       "      <td>2.0</td>\n",
       "      <td>4.0</td>\n",
       "      <td>2.0</td>\n",
       "      <td>2.0</td>\n",
       "      <td>2.0</td>\n",
       "      <td>5.0</td>\n",
       "      <td>5.0</td>\n",
       "      <td>3.0</td>\n",
       "    </tr>\n",
       "    <tr>\n",
       "      <th>1130</th>\n",
       "      <td>3.0</td>\n",
       "      <td>4.0</td>\n",
       "      <td>4.0</td>\n",
       "      <td>4.0</td>\n",
       "      <td>4.0</td>\n",
       "      <td>2.0</td>\n",
       "      <td>5.0</td>\n",
       "      <td>5.0</td>\n",
       "      <td>5.0</td>\n",
       "      <td>3.0</td>\n",
       "    </tr>\n",
       "    <tr>\n",
       "      <th>1294</th>\n",
       "      <td>3.0</td>\n",
       "      <td>4.0</td>\n",
       "      <td>4.0</td>\n",
       "      <td>4.0</td>\n",
       "      <td>4.0</td>\n",
       "      <td>3.0</td>\n",
       "      <td>3.0</td>\n",
       "      <td>5.0</td>\n",
       "      <td>5.0</td>\n",
       "      <td>3.0</td>\n",
       "    </tr>\n",
       "    <tr>\n",
       "      <th>860</th>\n",
       "      <td>2.0</td>\n",
       "      <td>4.0</td>\n",
       "      <td>4.0</td>\n",
       "      <td>4.0</td>\n",
       "      <td>2.0</td>\n",
       "      <td>2.0</td>\n",
       "      <td>2.0</td>\n",
       "      <td>5.0</td>\n",
       "      <td>5.0</td>\n",
       "      <td>3.0</td>\n",
       "    </tr>\n",
       "    <tr>\n",
       "      <th>1126</th>\n",
       "      <td>2.0</td>\n",
       "      <td>4.0</td>\n",
       "      <td>2.0</td>\n",
       "      <td>4.0</td>\n",
       "      <td>0.0</td>\n",
       "      <td>2.0</td>\n",
       "      <td>5.0</td>\n",
       "      <td>5.0</td>\n",
       "      <td>5.0</td>\n",
       "      <td>3.0</td>\n",
       "    </tr>\n",
       "  </tbody>\n",
       "</table>\n",
       "<p>1021 rows × 10 columns</p>\n",
       "</div>"
      ],
      "text/plain": [
       "      ExterQual  ExterCond  BsmtQual  BsmtCond  HeatingQC  KitchenQual  \\\n",
       "135         3.0        4.0       4.0       4.0        2.0          3.0   \n",
       "1452        3.0        4.0       2.0       4.0        2.0          3.0   \n",
       "762         3.0        4.0       2.0       4.0        0.0          2.0   \n",
       "932         0.0        4.0       0.0       1.0        0.0          0.0   \n",
       "435         2.0        4.0       2.0       4.0        0.0          2.0   \n",
       "...         ...        ...       ...       ...        ...          ...   \n",
       "1095        2.0        4.0       2.0       4.0        2.0          2.0   \n",
       "1130        3.0        4.0       4.0       4.0        4.0          2.0   \n",
       "1294        3.0        4.0       4.0       4.0        4.0          3.0   \n",
       "860         2.0        4.0       4.0       4.0        2.0          2.0   \n",
       "1126        2.0        4.0       2.0       4.0        0.0          2.0   \n",
       "\n",
       "      FireplaceQu  GarageQual  GarageCond  PoolQC  \n",
       "135           2.0         5.0         5.0     3.0  \n",
       "1452          3.0         5.0         5.0     3.0  \n",
       "762           3.0         5.0         5.0     3.0  \n",
       "932           2.0         5.0         5.0     3.0  \n",
       "435           5.0         5.0         5.0     3.0  \n",
       "...           ...         ...         ...     ...  \n",
       "1095          2.0         5.0         5.0     3.0  \n",
       "1130          5.0         5.0         5.0     3.0  \n",
       "1294          3.0         5.0         5.0     3.0  \n",
       "860           2.0         5.0         5.0     3.0  \n",
       "1126          5.0         5.0         5.0     3.0  \n",
       "\n",
       "[1021 rows x 10 columns]"
      ]
     },
     "execution_count": 3589,
     "metadata": {},
     "output_type": "execute_result"
    }
   ],
   "source": [
    "xtrain[ordinal_categorical_features]\n"
   ]
  },
  {
   "cell_type": "code",
   "execution_count": 3590,
   "id": "7add257b",
   "metadata": {},
   "outputs": [
    {
     "data": {
      "text/plain": [
       "MSZoning         0\n",
       "Street           0\n",
       "Alley            0\n",
       "LotShape         0\n",
       "LandContour      0\n",
       "Utilities        0\n",
       "LotConfig        0\n",
       "LandSlope        0\n",
       "Neighborhood     0\n",
       "Condition1       0\n",
       "Condition2       0\n",
       "BldgType         0\n",
       "HouseStyle       0\n",
       "RoofStyle        0\n",
       "RoofMatl         0\n",
       "Exterior1st      0\n",
       "Exterior2nd      0\n",
       "MasVnrType       0\n",
       "Foundation       0\n",
       "BsmtExposure     0\n",
       "BsmtFinType1     0\n",
       "BsmtFinType2     0\n",
       "Heating          0\n",
       "CentralAir       0\n",
       "Electrical       0\n",
       "Functional       0\n",
       "GarageType       0\n",
       "GarageFinish     0\n",
       "PavedDrive       0\n",
       "Fence            0\n",
       "MiscFeature      0\n",
       "SaleType         0\n",
       "SaleCondition    0\n",
       "dtype: int64"
      ]
     },
     "execution_count": 3590,
     "metadata": {},
     "output_type": "execute_result"
    }
   ],
   "source": [
    "xtrain[categorical_features].isnull().sum()"
   ]
  },
  {
   "cell_type": "markdown",
   "id": "8becf1b5",
   "metadata": {},
   "source": [
    "## Feature Engineering"
   ]
  },
  {
   "cell_type": "code",
   "execution_count": 3591,
   "id": "dc688ef7",
   "metadata": {},
   "outputs": [
    {
     "data": {
      "text/plain": [
       "['MSZoning',\n",
       " 'Street',\n",
       " 'LotShape',\n",
       " 'LandSlope',\n",
       " 'Neighborhood',\n",
       " 'Foundation',\n",
       " 'BsmtExposure',\n",
       " 'CentralAir',\n",
       " 'GarageType',\n",
       " 'GarageFinish']"
      ]
     },
     "execution_count": 3591,
     "metadata": {},
     "output_type": "execute_result"
    }
   ],
   "source": [
    "classif=f_classif(cat[categorical_features],ytrain)\n",
    "result2=np.where(classif[1] < 0.007)[0].tolist()\n",
    "select_categ=[]\n",
    "for feature in categorical_features:\n",
    "    if categorical_features.index(feature) in result2:\n",
    "        select_categ.append(feature)\n",
    "select_categ\n"
   ]
  },
  {
   "cell_type": "code",
   "execution_count": 3592,
   "id": "fcda0108",
   "metadata": {},
   "outputs": [
    {
     "data": {
      "text/plain": [
       "['ExterQual', 'BsmtQual', 'HeatingQC', 'KitchenQual']"
      ]
     },
     "execution_count": 3592,
     "metadata": {},
     "output_type": "execute_result"
    }
   ],
   "source": [
    "classif=f_classif(xtrain[ordinal_categorical_features],ytrain)\n",
    "\n",
    "result3=np.where(classif[1] < 0.001)[0].tolist()\n",
    "select_ord=[]\n",
    "for feature in ordinal_categorical_features:\n",
    "    if ordinal_categorical_features.index(feature) in result3:\n",
    "        select_ord.append(feature)\n",
    "select_ord"
   ]
  },
  {
   "cell_type": "code",
   "execution_count": 3593,
   "id": "b13c6f36",
   "metadata": {},
   "outputs": [],
   "source": [
    "selected_features=[\"Neighborhood\"]+[\"Utilities\"]+selected_date_features+selected_numerical_features+selected_numerical_ordinal_features"
   ]
  },
  {
   "cell_type": "code",
   "execution_count": 3594,
   "id": "420cddd8",
   "metadata": {
    "scrolled": true
   },
   "outputs": [],
   "source": [
    "selected_features=[\"Neighborhood\",\"YearBuilt\",\"OverallQual\",\"GarageArea\",\"GrLivArea\",\"TotalBsmtSF\",\"Utilities\"]"
   ]
  },
  {
   "cell_type": "code",
   "execution_count": 3595,
   "id": "769d7a07",
   "metadata": {},
   "outputs": [],
   "source": [
    "xtrain=xtrain[selected_features]"
   ]
  },
  {
   "cell_type": "code",
   "execution_count": null,
   "id": "5fd7afe6",
   "metadata": {},
   "outputs": [],
   "source": []
  },
  {
   "cell_type": "code",
   "execution_count": 3596,
   "id": "bcf04765",
   "metadata": {},
   "outputs": [
    {
     "name": "stderr",
     "output_type": "stream",
     "text": [
      "C:\\Users\\patri\\AppData\\Local\\Temp\\ipykernel_18264\\2343920160.py:3: SettingWithCopyWarning: \n",
      "A value is trying to be set on a copy of a slice from a DataFrame.\n",
      "Try using .loc[row_indexer,col_indexer] = value instead\n",
      "\n",
      "See the caveats in the documentation: https://pandas.pydata.org/pandas-docs/stable/user_guide/indexing.html#returning-a-view-versus-a-copy\n",
      "  xtrain[selected_features]=scaler.transform(xtrain)\n"
     ]
    }
   ],
   "source": [
    "scaler=MinMaxScaler()\n",
    "scaler.fit(xtrain)\n",
    "xtrain.loc[:,selected_features]=scaler.transform(xtrain)"
   ]
  },
  {
   "cell_type": "code",
   "execution_count": 3597,
   "id": "0dceb97a",
   "metadata": {},
   "outputs": [
    {
     "data": {
      "text/plain": [
       "Int64Index([1182, 224, 523, 533, 389, 1298, 440, 1169, 185, 375, 825, 515,\n",
       "            1373],\n",
       "           dtype='int64')"
      ]
     },
     "execution_count": 3597,
     "metadata": {},
     "output_type": "execute_result"
    }
   ],
   "source": [
    "xtrain[(xtrain[\"OverallQual\"]==1) | (xtrain[\"OverallQual\"]==0)].index"
   ]
  },
  {
   "cell_type": "code",
   "execution_count": 3598,
   "id": "48b777a5",
   "metadata": {},
   "outputs": [
    {
     "data": {
      "text/plain": [
       "LinearRegression()"
      ]
     },
     "execution_count": 3598,
     "metadata": {},
     "output_type": "execute_result"
    }
   ],
   "source": [
    "le=LinearRegression()\n",
    "le.fit(xtrain,ytrain)"
   ]
  },
  {
   "cell_type": "markdown",
   "id": "1a414ef0",
   "metadata": {},
   "source": [
    "## Test Preprocessing"
   ]
  },
  {
   "cell_type": "code",
   "execution_count": 3599,
   "id": "6cae09a5",
   "metadata": {},
   "outputs": [],
   "source": [
    "xtest=delete_columns(xtest)"
   ]
  },
  {
   "cell_type": "code",
   "execution_count": 3600,
   "id": "85fa3d80",
   "metadata": {},
   "outputs": [],
   "source": [
    "\n",
    "categorical_features=[features for features in xtest.columns if xtest[features].dtype==\"O\"]\n",
    "numerical_features=[features for features in xtest.columns if xtest[features].dtype!=\"O\"]\n",
    "xtest[categorical_features]=xtest[categorical_features].fillna(\"Missing\")\n",
    "xtest[numerical_features]=xtest[numerical_features].fillna(0)\n",
    "xtest=transform_cat(xtest)\n",
    "xtest=transform_ord(xtest)\n",
    "xtest=xtest[selected_features]\n",
    "xtest.shape\n",
    "x=scaler.transform(xtest)\n",
    "# xtest\n"
   ]
  },
  {
   "cell_type": "code",
   "execution_count": 3601,
   "id": "2a5f83a1",
   "metadata": {},
   "outputs": [],
   "source": [
    "xtest[selected_features]=x\n",
    "ypred=le.predict(xtest)"
   ]
  },
  {
   "cell_type": "code",
   "execution_count": 3602,
   "id": "fdfd5bd3",
   "metadata": {},
   "outputs": [
    {
     "data": {
      "text/plain": [
       "0.8005630513859212"
      ]
     },
     "execution_count": 3602,
     "metadata": {},
     "output_type": "execute_result"
    }
   ],
   "source": [
    "le.score(xtest,ytest)"
   ]
  },
  {
   "cell_type": "code",
   "execution_count": 3603,
   "id": "3d0f35d3",
   "metadata": {},
   "outputs": [],
   "source": [
    "ids=dftest[\"Id\"]\n",
    "dftest=delete_columns(dftest)\n",
    "categorical_features=[features for features in dftest.columns if dftest[features].dtype==\"O\"]\n",
    "numerical_features=[features for features in dftest.columns if dftest[features].dtype!=\"O\"]\n",
    "dftest[categorical_features]=dftest[categorical_features].fillna(\"Missing\")\n",
    "dftest[numerical_features]=dftest[numerical_features].fillna(0)\n",
    "dftest=transform_cat(dftest)\n",
    "dftest=transform_ord(dftest)\n",
    "dftest=dftest[selected_features]\n",
    "dftest[selected_features]=scaler.transform(dftest)\n",
    "\n",
    "\n",
    "\n",
    "\n"
   ]
  },
  {
   "cell_type": "code",
   "execution_count": 3604,
   "id": "fbd85d00",
   "metadata": {},
   "outputs": [],
   "source": [
    "df_result[\"Id\"]=ids\n",
    "df_result[\"SalePrice\"]=le.predict(dftest)"
   ]
  },
  {
   "cell_type": "code",
   "execution_count": 3605,
   "id": "329488e0",
   "metadata": {},
   "outputs": [],
   "source": [
    "df_result.to_csv(\"../data/result1.csv\",index=False)"
   ]
  },
  {
   "cell_type": "code",
   "execution_count": 3606,
   "id": "d62f9ef1",
   "metadata": {},
   "outputs": [
    {
     "data": {
      "text/html": [
       "<div>\n",
       "<style scoped>\n",
       "    .dataframe tbody tr th:only-of-type {\n",
       "        vertical-align: middle;\n",
       "    }\n",
       "\n",
       "    .dataframe tbody tr th {\n",
       "        vertical-align: top;\n",
       "    }\n",
       "\n",
       "    .dataframe thead th {\n",
       "        text-align: right;\n",
       "    }\n",
       "</style>\n",
       "<table border=\"1\" class=\"dataframe\">\n",
       "  <thead>\n",
       "    <tr style=\"text-align: right;\">\n",
       "      <th></th>\n",
       "      <th>Neighborhood</th>\n",
       "      <th>YearBuilt</th>\n",
       "      <th>OverallQual</th>\n",
       "      <th>GarageArea</th>\n",
       "      <th>GrLivArea</th>\n",
       "      <th>TotalBsmtSF</th>\n",
       "      <th>Utilities</th>\n",
       "    </tr>\n",
       "  </thead>\n",
       "  <tbody>\n",
       "    <tr>\n",
       "      <th>0</th>\n",
       "      <td>0.500000</td>\n",
       "      <td>0.644928</td>\n",
       "      <td>0.444444</td>\n",
       "      <td>0.514810</td>\n",
       "      <td>0.105878</td>\n",
       "      <td>0.144354</td>\n",
       "      <td>0.0</td>\n",
       "    </tr>\n",
       "    <tr>\n",
       "      <th>1</th>\n",
       "      <td>0.500000</td>\n",
       "      <td>0.623188</td>\n",
       "      <td>0.555556</td>\n",
       "      <td>0.220028</td>\n",
       "      <td>0.187453</td>\n",
       "      <td>0.217512</td>\n",
       "      <td>0.0</td>\n",
       "    </tr>\n",
       "    <tr>\n",
       "      <th>2</th>\n",
       "      <td>0.333333</td>\n",
       "      <td>0.905797</td>\n",
       "      <td>0.444444</td>\n",
       "      <td>0.339915</td>\n",
       "      <td>0.243971</td>\n",
       "      <td>0.151882</td>\n",
       "      <td>0.0</td>\n",
       "    </tr>\n",
       "    <tr>\n",
       "      <th>3</th>\n",
       "      <td>0.333333</td>\n",
       "      <td>0.913043</td>\n",
       "      <td>0.555556</td>\n",
       "      <td>0.331453</td>\n",
       "      <td>0.239261</td>\n",
       "      <td>0.151555</td>\n",
       "      <td>0.0</td>\n",
       "    </tr>\n",
       "    <tr>\n",
       "      <th>4</th>\n",
       "      <td>0.916667</td>\n",
       "      <td>0.869565</td>\n",
       "      <td>0.777778</td>\n",
       "      <td>0.356841</td>\n",
       "      <td>0.178222</td>\n",
       "      <td>0.209493</td>\n",
       "      <td>0.0</td>\n",
       "    </tr>\n",
       "    <tr>\n",
       "      <th>...</th>\n",
       "      <td>...</td>\n",
       "      <td>...</td>\n",
       "      <td>...</td>\n",
       "      <td>...</td>\n",
       "      <td>...</td>\n",
       "      <td>...</td>\n",
       "      <td>...</td>\n",
       "    </tr>\n",
       "    <tr>\n",
       "      <th>1454</th>\n",
       "      <td>0.416667</td>\n",
       "      <td>0.710145</td>\n",
       "      <td>0.333333</td>\n",
       "      <td>0.000000</td>\n",
       "      <td>0.142803</td>\n",
       "      <td>0.089362</td>\n",
       "      <td>0.0</td>\n",
       "    </tr>\n",
       "    <tr>\n",
       "      <th>1455</th>\n",
       "      <td>0.416667</td>\n",
       "      <td>0.710145</td>\n",
       "      <td>0.333333</td>\n",
       "      <td>0.201693</td>\n",
       "      <td>0.142803</td>\n",
       "      <td>0.089362</td>\n",
       "      <td>0.0</td>\n",
       "    </tr>\n",
       "    <tr>\n",
       "      <th>1456</th>\n",
       "      <td>0.458333</td>\n",
       "      <td>0.637681</td>\n",
       "      <td>0.444444</td>\n",
       "      <td>0.406206</td>\n",
       "      <td>0.167671</td>\n",
       "      <td>0.200327</td>\n",
       "      <td>0.0</td>\n",
       "    </tr>\n",
       "    <tr>\n",
       "      <th>1457</th>\n",
       "      <td>0.458333</td>\n",
       "      <td>0.869565</td>\n",
       "      <td>0.444444</td>\n",
       "      <td>0.000000</td>\n",
       "      <td>0.119819</td>\n",
       "      <td>0.149264</td>\n",
       "      <td>0.0</td>\n",
       "    </tr>\n",
       "    <tr>\n",
       "      <th>1458</th>\n",
       "      <td>0.458333</td>\n",
       "      <td>0.876812</td>\n",
       "      <td>0.666667</td>\n",
       "      <td>0.458392</td>\n",
       "      <td>0.313866</td>\n",
       "      <td>0.163011</td>\n",
       "      <td>0.0</td>\n",
       "    </tr>\n",
       "  </tbody>\n",
       "</table>\n",
       "<p>1459 rows × 7 columns</p>\n",
       "</div>"
      ],
      "text/plain": [
       "      Neighborhood  YearBuilt  OverallQual  GarageArea  GrLivArea  \\\n",
       "0         0.500000   0.644928     0.444444    0.514810   0.105878   \n",
       "1         0.500000   0.623188     0.555556    0.220028   0.187453   \n",
       "2         0.333333   0.905797     0.444444    0.339915   0.243971   \n",
       "3         0.333333   0.913043     0.555556    0.331453   0.239261   \n",
       "4         0.916667   0.869565     0.777778    0.356841   0.178222   \n",
       "...            ...        ...          ...         ...        ...   \n",
       "1454      0.416667   0.710145     0.333333    0.000000   0.142803   \n",
       "1455      0.416667   0.710145     0.333333    0.201693   0.142803   \n",
       "1456      0.458333   0.637681     0.444444    0.406206   0.167671   \n",
       "1457      0.458333   0.869565     0.444444    0.000000   0.119819   \n",
       "1458      0.458333   0.876812     0.666667    0.458392   0.313866   \n",
       "\n",
       "      TotalBsmtSF  Utilities  \n",
       "0        0.144354        0.0  \n",
       "1        0.217512        0.0  \n",
       "2        0.151882        0.0  \n",
       "3        0.151555        0.0  \n",
       "4        0.209493        0.0  \n",
       "...           ...        ...  \n",
       "1454     0.089362        0.0  \n",
       "1455     0.089362        0.0  \n",
       "1456     0.200327        0.0  \n",
       "1457     0.149264        0.0  \n",
       "1458     0.163011        0.0  \n",
       "\n",
       "[1459 rows x 7 columns]"
      ]
     },
     "execution_count": 3606,
     "metadata": {},
     "output_type": "execute_result"
    }
   ],
   "source": [
    "dftest"
   ]
  },
  {
   "cell_type": "code",
   "execution_count": 3607,
   "id": "97ab6cad",
   "metadata": {},
   "outputs": [
    {
     "data": {
      "text/plain": [
       "0.24"
      ]
     },
     "execution_count": 3607,
     "metadata": {},
     "output_type": "execute_result"
    }
   ],
   "source": [
    "import numpy as np\n",
    "from sklearn.metrics import mean_squared_log_error\n",
    "\n",
    "def compute_rmsle(y_test: np.ndarray, y_pred: np.ndarray, precision: int = 2) -> float:\n",
    "    rmsle = np.sqrt(mean_squared_log_error(y_test, y_pred))\n",
    "    return round(rmsle, precision)\n",
    "compute_rmsle(ytest,ypred)"
   ]
  },
  {
   "cell_type": "code",
   "execution_count": null,
   "id": "77f9e3aa",
   "metadata": {},
   "outputs": [],
   "source": []
  },
  {
   "cell_type": "code",
   "execution_count": null,
   "id": "0fc519c8",
   "metadata": {},
   "outputs": [],
   "source": []
  },
  {
   "cell_type": "code",
   "execution_count": null,
   "id": "c75ad441",
   "metadata": {},
   "outputs": [],
   "source": []
  }
 ],
 "metadata": {
  "kernelspec": {
   "display_name": "myvenv1",
   "language": "python",
   "name": "myenv"
  },
  "language_info": {
   "codemirror_mode": {
    "name": "ipython",
    "version": 3
   },
   "file_extension": ".py",
   "mimetype": "text/x-python",
   "name": "python",
   "nbconvert_exporter": "python",
   "pygments_lexer": "ipython3",
   "version": "3.9.12"
  }
 },
 "nbformat": 4,
 "nbformat_minor": 5
}
