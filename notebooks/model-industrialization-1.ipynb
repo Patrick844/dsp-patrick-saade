{
 "cells": [
  {
   "cell_type": "code",
   "execution_count": 426,
   "id": "da17c8e2",
   "metadata": {},
   "outputs": [],
   "source": [
    "import pandas as pd\n",
    "import numpy as np\n",
    "import seaborn as sns\n",
    "import re\n",
    "from sklearn.model_selection import train_test_split\n",
    "import matplotlib.pyplot as plt"
   ]
  },
  {
   "cell_type": "markdown",
   "id": "05fd7bf9",
   "metadata": {},
   "source": [
    "## Loading and splitting data"
   ]
  },
  {
   "cell_type": "code",
   "execution_count": 380,
   "id": "7c4bb5f0",
   "metadata": {},
   "outputs": [],
   "source": [
    "df=pd.read_csv(\"../data/train.csv\")"
   ]
  },
  {
   "cell_type": "code",
   "execution_count": 381,
   "id": "93116dce",
   "metadata": {},
   "outputs": [
    {
     "data": {
      "text/plain": [
       "Index(['Id', 'MSSubClass', 'MSZoning', 'LotFrontage', 'LotArea', 'Street', 'Alley', 'LotShape', 'LandContour', 'Utilities', 'LotConfig', 'LandSlope', 'Neighborhood', 'Condition1', 'Condition2', 'BldgType', 'HouseStyle', 'OverallQual', 'OverallCond', 'YearBuilt', 'YearRemodAdd', 'RoofStyle', 'RoofMatl', 'Exterior1st', 'Exterior2nd', 'MasVnrType', 'MasVnrArea', 'ExterQual', 'ExterCond', 'Foundation', 'BsmtQual', 'BsmtCond', 'BsmtExposure', 'BsmtFinType1', 'BsmtFinSF1', 'BsmtFinType2', 'BsmtFinSF2', 'BsmtUnfSF', 'TotalBsmtSF', 'Heating', 'HeatingQC', 'CentralAir', 'Electrical', '1stFlrSF', '2ndFlrSF', 'LowQualFinSF', 'GrLivArea', 'BsmtFullBath', 'BsmtHalfBath', 'FullBath', 'HalfBath', 'BedroomAbvGr', 'KitchenAbvGr', 'KitchenQual', 'TotRmsAbvGrd', 'Functional', 'Fireplaces', 'FireplaceQu', 'GarageType', 'GarageYrBlt', 'GarageFinish', 'GarageCars', 'GarageArea', 'GarageQual', 'GarageCond', 'PavedDrive', 'WoodDeckSF', 'OpenPorchSF', 'EnclosedPorch', '3SsnPorch', 'ScreenPorch', 'PoolArea',\n",
       "       'PoolQC', 'Fence', 'MiscFeature', 'MiscVal', 'MoSold', 'YrSold', 'SaleType', 'SaleCondition', 'SalePrice'],\n",
       "      dtype='object')"
      ]
     },
     "execution_count": 381,
     "metadata": {},
     "output_type": "execute_result"
    }
   ],
   "source": [
    "df.columns"
   ]
  },
  {
   "cell_type": "code",
   "execution_count": 382,
   "id": "d15ada7c",
   "metadata": {},
   "outputs": [],
   "source": [
    "X=df.iloc[:,:-1]\n",
    "Y=df.iloc[:,-1]"
   ]
  },
  {
   "cell_type": "code",
   "execution_count": 383,
   "id": "24b3d12a",
   "metadata": {},
   "outputs": [],
   "source": [
    "xtrain,xtest,ytrain,ytest=train_test_split(X,Y,test_size=0.25)\n",
    "xtrain,xval,ytrain,yval=train_test_split(xtrain,ytrain,test_size=0.15)"
   ]
  },
  {
   "cell_type": "markdown",
   "id": "345b81c8",
   "metadata": {},
   "source": [
    "## Cleaning Data Train"
   ]
  },
  {
   "cell_type": "code",
   "execution_count": 384,
   "id": "4da47260",
   "metadata": {},
   "outputs": [],
   "source": [
    "xtrain_null= xtrain.isnull().sum()[xtrain.isnull().sum() > 0]"
   ]
  },
  {
   "cell_type": "code",
   "execution_count": 385,
   "id": "de3f1420",
   "metadata": {},
   "outputs": [
    {
     "data": {
      "text/plain": [
       "MasVnrType        5\n",
       "MasVnrArea        5\n",
       "BsmtFinType2     28\n",
       "BsmtQual         28\n",
       "BsmtCond         28\n",
       "BsmtFinType1     28\n",
       "BsmtExposure     29\n",
       "GarageCond       57\n",
       "GarageQual       57\n",
       "GarageFinish     57\n",
       "GarageType       57\n",
       "GarageYrBlt      57\n",
       "LotFrontage     157\n",
       "FireplaceQu     452\n",
       "Fence           738\n",
       "Alley           869\n",
       "MiscFeature     891\n",
       "PoolQC          923\n",
       "dtype: int64"
      ]
     },
     "execution_count": 385,
     "metadata": {},
     "output_type": "execute_result"
    }
   ],
   "source": [
    "xtrain_null.sort_values(ascending=True)"
   ]
  },
  {
   "cell_type": "markdown",
   "id": "90ce2af7",
   "metadata": {},
   "source": [
    " Remove the row where electrical is null"
   ]
  },
  {
   "cell_type": "code",
   "execution_count": 386,
   "id": "06d9e178",
   "metadata": {},
   "outputs": [],
   "source": [
    "xtrain=xtrain.dropna(subset=\"Electrical\")"
   ]
  },
  {
   "cell_type": "code",
   "execution_count": 387,
   "id": "8fe684a4",
   "metadata": {},
   "outputs": [],
   "source": [
    "xtrain_null= xtrain.isnull().sum()[xtrain.isnull().sum() > 0]"
   ]
  },
  {
   "cell_type": "markdown",
   "id": "6735e756",
   "metadata": {},
   "source": [
    "* ID column isn't usefull to predict a house price so I will remove it\n",
    "* GarageYrBlt has a lot of missing value, and we have a lot of other \n",
    "<br>\n",
    "  features related to the garage so I will remove it too "
   ]
  },
  {
   "cell_type": "code",
   "execution_count": 388,
   "id": "c294e7b0",
   "metadata": {},
   "outputs": [],
   "source": [
    "def delete_columns(df):\n",
    "    df=df.drop([\"Id\",\"GarageYrBlt\"],axis=1)\n",
    "    return df"
   ]
  },
  {
   "cell_type": "code",
   "execution_count": 389,
   "id": "6f6dbaca",
   "metadata": {},
   "outputs": [],
   "source": [
    "xtrain=delete_columns(xtrain)"
   ]
  },
  {
   "cell_type": "markdown",
   "id": "2dda718c",
   "metadata": {},
   "source": [
    "## Sort features by type"
   ]
  },
  {
   "cell_type": "code",
   "execution_count": 390,
   "id": "ac8868b7",
   "metadata": {},
   "outputs": [],
   "source": [
    "categorical_features=[features for features in xtrain.columns if xtrain[features].dtype==\"O\"]\n",
    "numerical_features=[features for features in xtrain.columns if xtrain[features].dtype!=\"O\"]\n"
   ]
  },
  {
   "cell_type": "markdown",
   "id": "e8b26447",
   "metadata": {},
   "source": [
    "###  Update missing categorical values"
   ]
  },
  {
   "cell_type": "code",
   "execution_count": 391,
   "id": "35953ac9",
   "metadata": {},
   "outputs": [
    {
     "data": {
      "text/plain": [
       "PoolQC           923\n",
       "MiscFeature      891\n",
       "Alley            869\n",
       "Fence            738\n",
       "FireplaceQu      452\n",
       "GarageType        57\n",
       "GarageCond        57\n",
       "GarageQual        57\n",
       "GarageFinish      57\n",
       "BsmtExposure      29\n",
       "BsmtFinType1      28\n",
       "BsmtFinType2      28\n",
       "BsmtQual          28\n",
       "BsmtCond          28\n",
       "MasVnrType         5\n",
       "Functional         0\n",
       "KitchenQual        0\n",
       "Electrical         0\n",
       "CentralAir         0\n",
       "HeatingQC          0\n",
       "Heating            0\n",
       "PavedDrive         0\n",
       "SaleType           0\n",
       "MSZoning           0\n",
       "Street             0\n",
       "Condition2         0\n",
       "LotShape           0\n",
       "LandContour        0\n",
       "Utilities          0\n",
       "LotConfig          0\n",
       "LandSlope          0\n",
       "Neighborhood       0\n",
       "Condition1         0\n",
       "BldgType           0\n",
       "Foundation         0\n",
       "HouseStyle         0\n",
       "RoofStyle          0\n",
       "RoofMatl           0\n",
       "Exterior1st        0\n",
       "Exterior2nd        0\n",
       "ExterQual          0\n",
       "ExterCond          0\n",
       "SaleCondition      0\n",
       "dtype: int64"
      ]
     },
     "execution_count": 391,
     "metadata": {},
     "output_type": "execute_result"
    }
   ],
   "source": [
    "\n",
    "xtrain[categorical_features].isnull().sum().sort_values(ascending=False)"
   ]
  },
  {
   "cell_type": "markdown",
   "id": "80638d7a",
   "metadata": {},
   "source": [
    "I chose to update with missing, because the fact that there is Null values means that its not existent for example a missing pool"
   ]
  },
  {
   "cell_type": "code",
   "execution_count": 392,
   "id": "566a901d",
   "metadata": {},
   "outputs": [
    {
     "data": {
      "text/plain": [
       "LotFrontage      157\n",
       "MasVnrArea         5\n",
       "WoodDeckSF         0\n",
       "BedroomAbvGr       0\n",
       "KitchenAbvGr       0\n",
       "TotRmsAbvGrd       0\n",
       "Fireplaces         0\n",
       "GarageCars         0\n",
       "GarageArea         0\n",
       "MSSubClass         0\n",
       "HalfBath           0\n",
       "EnclosedPorch      0\n",
       "3SsnPorch          0\n",
       "ScreenPorch        0\n",
       "PoolArea           0\n",
       "MiscVal            0\n",
       "MoSold             0\n",
       "OpenPorchSF        0\n",
       "BsmtHalfBath       0\n",
       "FullBath           0\n",
       "BsmtFullBath       0\n",
       "GrLivArea          0\n",
       "LowQualFinSF       0\n",
       "2ndFlrSF           0\n",
       "1stFlrSF           0\n",
       "TotalBsmtSF        0\n",
       "BsmtUnfSF          0\n",
       "BsmtFinSF2         0\n",
       "BsmtFinSF1         0\n",
       "YearRemodAdd       0\n",
       "YearBuilt          0\n",
       "OverallCond        0\n",
       "OverallQual        0\n",
       "LotArea            0\n",
       "YrSold             0\n",
       "dtype: int64"
      ]
     },
     "execution_count": 392,
     "metadata": {},
     "output_type": "execute_result"
    }
   ],
   "source": [
    "xtrain[numerical_features].isnull().sum().sort_values(ascending=False)"
   ]
  },
  {
   "cell_type": "code",
   "execution_count": 393,
   "id": "1234c958",
   "metadata": {},
   "outputs": [],
   "source": [
    "xtrain[categorical_features]=xtrain[categorical_features].fillna(\"Missing\")\n",
    "xtrain[numerical_features]=xtrain[numerical_features].fillna(0)"
   ]
  },
  {
   "cell_type": "code",
   "execution_count": 394,
   "id": "3a611af6",
   "metadata": {},
   "outputs": [],
   "source": [
    "xtrain_null= xtrain.isnull().sum()[xtrain.isnull().sum() > 0]"
   ]
  },
  {
   "cell_type": "markdown",
   "id": "d2e6cda1",
   "metadata": {},
   "source": [
    "## Duplicated rows"
   ]
  },
  {
   "cell_type": "code",
   "execution_count": 395,
   "id": "4241575d",
   "metadata": {},
   "outputs": [
    {
     "data": {
      "text/html": [
       "<div>\n",
       "<style scoped>\n",
       "    .dataframe tbody tr th:only-of-type {\n",
       "        vertical-align: middle;\n",
       "    }\n",
       "\n",
       "    .dataframe tbody tr th {\n",
       "        vertical-align: top;\n",
       "    }\n",
       "\n",
       "    .dataframe thead th {\n",
       "        text-align: right;\n",
       "    }\n",
       "</style>\n",
       "<table border=\"1\" class=\"dataframe\">\n",
       "  <thead>\n",
       "    <tr style=\"text-align: right;\">\n",
       "      <th></th>\n",
       "      <th>MSSubClass</th>\n",
       "      <th>MSZoning</th>\n",
       "      <th>LotFrontage</th>\n",
       "      <th>LotArea</th>\n",
       "      <th>Street</th>\n",
       "      <th>Alley</th>\n",
       "      <th>LotShape</th>\n",
       "      <th>LandContour</th>\n",
       "      <th>Utilities</th>\n",
       "      <th>LotConfig</th>\n",
       "      <th>LandSlope</th>\n",
       "      <th>Neighborhood</th>\n",
       "      <th>Condition1</th>\n",
       "      <th>Condition2</th>\n",
       "      <th>BldgType</th>\n",
       "      <th>HouseStyle</th>\n",
       "      <th>OverallQual</th>\n",
       "      <th>OverallCond</th>\n",
       "      <th>YearBuilt</th>\n",
       "      <th>YearRemodAdd</th>\n",
       "      <th>RoofStyle</th>\n",
       "      <th>RoofMatl</th>\n",
       "      <th>Exterior1st</th>\n",
       "      <th>Exterior2nd</th>\n",
       "      <th>MasVnrType</th>\n",
       "      <th>MasVnrArea</th>\n",
       "      <th>ExterQual</th>\n",
       "      <th>ExterCond</th>\n",
       "      <th>Foundation</th>\n",
       "      <th>BsmtQual</th>\n",
       "      <th>BsmtCond</th>\n",
       "      <th>BsmtExposure</th>\n",
       "      <th>BsmtFinType1</th>\n",
       "      <th>BsmtFinSF1</th>\n",
       "      <th>BsmtFinType2</th>\n",
       "      <th>BsmtFinSF2</th>\n",
       "      <th>BsmtUnfSF</th>\n",
       "      <th>TotalBsmtSF</th>\n",
       "      <th>Heating</th>\n",
       "      <th>HeatingQC</th>\n",
       "      <th>CentralAir</th>\n",
       "      <th>Electrical</th>\n",
       "      <th>1stFlrSF</th>\n",
       "      <th>2ndFlrSF</th>\n",
       "      <th>LowQualFinSF</th>\n",
       "      <th>GrLivArea</th>\n",
       "      <th>BsmtFullBath</th>\n",
       "      <th>BsmtHalfBath</th>\n",
       "      <th>FullBath</th>\n",
       "      <th>HalfBath</th>\n",
       "      <th>BedroomAbvGr</th>\n",
       "      <th>KitchenAbvGr</th>\n",
       "      <th>KitchenQual</th>\n",
       "      <th>TotRmsAbvGrd</th>\n",
       "      <th>Functional</th>\n",
       "      <th>Fireplaces</th>\n",
       "      <th>FireplaceQu</th>\n",
       "      <th>GarageType</th>\n",
       "      <th>GarageFinish</th>\n",
       "      <th>GarageCars</th>\n",
       "      <th>GarageArea</th>\n",
       "      <th>GarageQual</th>\n",
       "      <th>GarageCond</th>\n",
       "      <th>PavedDrive</th>\n",
       "      <th>WoodDeckSF</th>\n",
       "      <th>OpenPorchSF</th>\n",
       "      <th>EnclosedPorch</th>\n",
       "      <th>3SsnPorch</th>\n",
       "      <th>ScreenPorch</th>\n",
       "      <th>PoolArea</th>\n",
       "      <th>PoolQC</th>\n",
       "      <th>Fence</th>\n",
       "      <th>MiscFeature</th>\n",
       "      <th>MiscVal</th>\n",
       "      <th>MoSold</th>\n",
       "      <th>YrSold</th>\n",
       "      <th>SaleType</th>\n",
       "      <th>SaleCondition</th>\n",
       "    </tr>\n",
       "  </thead>\n",
       "  <tbody>\n",
       "  </tbody>\n",
       "</table>\n",
       "</div>"
      ],
      "text/plain": [
       "Empty DataFrame\n",
       "Columns: [MSSubClass, MSZoning, LotFrontage, LotArea, Street, Alley, LotShape, LandContour, Utilities, LotConfig, LandSlope, Neighborhood, Condition1, Condition2, BldgType, HouseStyle, OverallQual, OverallCond, YearBuilt, YearRemodAdd, RoofStyle, RoofMatl, Exterior1st, Exterior2nd, MasVnrType, MasVnrArea, ExterQual, ExterCond, Foundation, BsmtQual, BsmtCond, BsmtExposure, BsmtFinType1, BsmtFinSF1, BsmtFinType2, BsmtFinSF2, BsmtUnfSF, TotalBsmtSF, Heating, HeatingQC, CentralAir, Electrical, 1stFlrSF, 2ndFlrSF, LowQualFinSF, GrLivArea, BsmtFullBath, BsmtHalfBath, FullBath, HalfBath, BedroomAbvGr, KitchenAbvGr, KitchenQual, TotRmsAbvGrd, Functional, Fireplaces, FireplaceQu, GarageType, GarageFinish, GarageCars, GarageArea, GarageQual, GarageCond, PavedDrive, WoodDeckSF, OpenPorchSF, EnclosedPorch, 3SsnPorch, ScreenPorch, PoolArea, PoolQC, Fence, MiscFeature, MiscVal, MoSold, YrSold, SaleType, SaleCondition]\n",
       "Index: []"
      ]
     },
     "execution_count": 395,
     "metadata": {},
     "output_type": "execute_result"
    }
   ],
   "source": [
    "xtrain[xtrain.duplicated()==True]"
   ]
  },
  {
   "cell_type": "markdown",
   "id": "b6152496",
   "metadata": {},
   "source": [
    "There is no duplicated rows"
   ]
  },
  {
   "cell_type": "markdown",
   "id": "b83544fb",
   "metadata": {},
   "source": [
    "## Count all columns  unique values"
   ]
  },
  {
   "cell_type": "code",
   "execution_count": 396,
   "id": "10c2d273",
   "metadata": {},
   "outputs": [
    {
     "data": {
      "text/plain": [
       "Utilities          1\n",
       "Street             2\n",
       "CentralAir         2\n",
       "HalfBath           3\n",
       "BsmtHalfBath       3\n",
       "Alley              3\n",
       "LandSlope          3\n",
       "PavedDrive         3\n",
       "GarageFinish       4\n",
       "Fireplaces         4\n",
       "ExterQual          4\n",
       "ExterCond          4\n",
       "FullBath           4\n",
       "KitchenAbvGr       4\n",
       "KitchenQual        4\n",
       "LandContour        4\n",
       "LotShape           4\n",
       "BsmtFullBath       4\n",
       "PoolQC             4\n",
       "BsmtQual           5\n",
       "BsmtExposure       5\n",
       "Electrical         5\n",
       "MasVnrType         5\n",
       "BsmtCond           5\n",
       "HeatingQC          5\n",
       "GarageCars         5\n",
       "BldgType           5\n",
       "Fence              5\n",
       "LotConfig          5\n",
       "MiscFeature        5\n",
       "YrSold             5\n",
       "MSZoning           5\n",
       "FireplaceQu        6\n",
       "GarageQual         6\n",
       "GarageCond         6\n",
       "Functional         6\n",
       "Heating            6\n",
       "SaleCondition      6\n",
       "Condition2         6\n",
       "RoofStyle          6\n",
       "Foundation         6\n",
       "GarageType         7\n",
       "BsmtFinType2       7\n",
       "RoofMatl           7\n",
       "BsmtFinType1       7\n",
       "PoolArea           8\n",
       "HouseStyle         8\n",
       "BedroomAbvGr       8\n",
       "SaleType           8\n",
       "Condition1         9\n",
       "OverallCond        9\n",
       "OverallQual       10\n",
       "MoSold            12\n",
       "TotRmsAbvGrd      12\n",
       "MSSubClass        15\n",
       "Exterior1st       15\n",
       "Exterior2nd       16\n",
       "3SsnPorch         16\n",
       "MiscVal           18\n",
       "LowQualFinSF      20\n",
       "Neighborhood      25\n",
       "ScreenPorch       46\n",
       "YearRemodAdd      61\n",
       "BsmtFinSF2        87\n",
       "EnclosedPorch     93\n",
       "LotFrontage      104\n",
       "YearBuilt        105\n",
       "OpenPorchSF      161\n",
       "WoodDeckSF       211\n",
       "MasVnrArea       235\n",
       "2ndFlrSF         302\n",
       "GarageArea       344\n",
       "BsmtFinSF1       462\n",
       "TotalBsmtSF      535\n",
       "1stFlrSF         567\n",
       "BsmtUnfSF        592\n",
       "GrLivArea        630\n",
       "LotArea          727\n",
       "dtype: int64"
      ]
     },
     "execution_count": 396,
     "metadata": {},
     "output_type": "execute_result"
    }
   ],
   "source": [
    "xtrain.nunique().sort_values(ascending=True)"
   ]
  },
  {
   "cell_type": "markdown",
   "id": "bf991abd",
   "metadata": {},
   "source": [
    "## Count numerical columns  unique values"
   ]
  },
  {
   "cell_type": "code",
   "execution_count": 397,
   "id": "30560db5",
   "metadata": {},
   "outputs": [
    {
     "data": {
      "text/html": [
       "<div>\n",
       "<style scoped>\n",
       "    .dataframe tbody tr th:only-of-type {\n",
       "        vertical-align: middle;\n",
       "    }\n",
       "\n",
       "    .dataframe tbody tr th {\n",
       "        vertical-align: top;\n",
       "    }\n",
       "\n",
       "    .dataframe thead th {\n",
       "        text-align: right;\n",
       "    }\n",
       "</style>\n",
       "<table border=\"1\" class=\"dataframe\">\n",
       "  <thead>\n",
       "    <tr style=\"text-align: right;\">\n",
       "      <th></th>\n",
       "      <th>MSSubClass</th>\n",
       "      <th>LotFrontage</th>\n",
       "      <th>LotArea</th>\n",
       "      <th>OverallQual</th>\n",
       "      <th>OverallCond</th>\n",
       "      <th>YearBuilt</th>\n",
       "      <th>YearRemodAdd</th>\n",
       "      <th>MasVnrArea</th>\n",
       "      <th>BsmtFinSF1</th>\n",
       "      <th>BsmtFinSF2</th>\n",
       "      <th>BsmtUnfSF</th>\n",
       "      <th>TotalBsmtSF</th>\n",
       "      <th>1stFlrSF</th>\n",
       "      <th>2ndFlrSF</th>\n",
       "      <th>LowQualFinSF</th>\n",
       "      <th>GrLivArea</th>\n",
       "      <th>BsmtFullBath</th>\n",
       "      <th>BsmtHalfBath</th>\n",
       "      <th>FullBath</th>\n",
       "      <th>HalfBath</th>\n",
       "      <th>BedroomAbvGr</th>\n",
       "      <th>KitchenAbvGr</th>\n",
       "      <th>TotRmsAbvGrd</th>\n",
       "      <th>Fireplaces</th>\n",
       "      <th>GarageCars</th>\n",
       "      <th>GarageArea</th>\n",
       "      <th>WoodDeckSF</th>\n",
       "      <th>OpenPorchSF</th>\n",
       "      <th>EnclosedPorch</th>\n",
       "      <th>3SsnPorch</th>\n",
       "      <th>ScreenPorch</th>\n",
       "      <th>PoolArea</th>\n",
       "      <th>MiscVal</th>\n",
       "      <th>MoSold</th>\n",
       "      <th>YrSold</th>\n",
       "    </tr>\n",
       "  </thead>\n",
       "  <tbody>\n",
       "    <tr>\n",
       "      <th>1014</th>\n",
       "      <td>20</td>\n",
       "      <td>60.0</td>\n",
       "      <td>11664</td>\n",
       "      <td>6</td>\n",
       "      <td>5</td>\n",
       "      <td>1948</td>\n",
       "      <td>1950</td>\n",
       "      <td>206.0</td>\n",
       "      <td>336</td>\n",
       "      <td>0</td>\n",
       "      <td>746</td>\n",
       "      <td>1082</td>\n",
       "      <td>1082</td>\n",
       "      <td>0</td>\n",
       "      <td>0</td>\n",
       "      <td>1082</td>\n",
       "      <td>0</td>\n",
       "      <td>0</td>\n",
       "      <td>1</td>\n",
       "      <td>0</td>\n",
       "      <td>2</td>\n",
       "      <td>1</td>\n",
       "      <td>5</td>\n",
       "      <td>1</td>\n",
       "      <td>1</td>\n",
       "      <td>240</td>\n",
       "      <td>0</td>\n",
       "      <td>130</td>\n",
       "      <td>0</td>\n",
       "      <td>0</td>\n",
       "      <td>0</td>\n",
       "      <td>0</td>\n",
       "      <td>0</td>\n",
       "      <td>11</td>\n",
       "      <td>2007</td>\n",
       "    </tr>\n",
       "    <tr>\n",
       "      <th>1106</th>\n",
       "      <td>20</td>\n",
       "      <td>114.0</td>\n",
       "      <td>10357</td>\n",
       "      <td>7</td>\n",
       "      <td>5</td>\n",
       "      <td>1990</td>\n",
       "      <td>1991</td>\n",
       "      <td>0.0</td>\n",
       "      <td>738</td>\n",
       "      <td>0</td>\n",
       "      <td>172</td>\n",
       "      <td>910</td>\n",
       "      <td>1442</td>\n",
       "      <td>0</td>\n",
       "      <td>0</td>\n",
       "      <td>1442</td>\n",
       "      <td>1</td>\n",
       "      <td>0</td>\n",
       "      <td>2</td>\n",
       "      <td>0</td>\n",
       "      <td>3</td>\n",
       "      <td>1</td>\n",
       "      <td>6</td>\n",
       "      <td>1</td>\n",
       "      <td>2</td>\n",
       "      <td>719</td>\n",
       "      <td>0</td>\n",
       "      <td>244</td>\n",
       "      <td>0</td>\n",
       "      <td>0</td>\n",
       "      <td>0</td>\n",
       "      <td>0</td>\n",
       "      <td>0</td>\n",
       "      <td>5</td>\n",
       "      <td>2007</td>\n",
       "    </tr>\n",
       "    <tr>\n",
       "      <th>813</th>\n",
       "      <td>20</td>\n",
       "      <td>75.0</td>\n",
       "      <td>9750</td>\n",
       "      <td>6</td>\n",
       "      <td>6</td>\n",
       "      <td>1958</td>\n",
       "      <td>1958</td>\n",
       "      <td>243.0</td>\n",
       "      <td>608</td>\n",
       "      <td>0</td>\n",
       "      <td>834</td>\n",
       "      <td>1442</td>\n",
       "      <td>1442</td>\n",
       "      <td>0</td>\n",
       "      <td>0</td>\n",
       "      <td>1442</td>\n",
       "      <td>0</td>\n",
       "      <td>0</td>\n",
       "      <td>1</td>\n",
       "      <td>1</td>\n",
       "      <td>4</td>\n",
       "      <td>1</td>\n",
       "      <td>7</td>\n",
       "      <td>0</td>\n",
       "      <td>1</td>\n",
       "      <td>301</td>\n",
       "      <td>0</td>\n",
       "      <td>0</td>\n",
       "      <td>275</td>\n",
       "      <td>0</td>\n",
       "      <td>0</td>\n",
       "      <td>0</td>\n",
       "      <td>500</td>\n",
       "      <td>4</td>\n",
       "      <td>2007</td>\n",
       "    </tr>\n",
       "    <tr>\n",
       "      <th>156</th>\n",
       "      <td>20</td>\n",
       "      <td>60.0</td>\n",
       "      <td>7200</td>\n",
       "      <td>5</td>\n",
       "      <td>7</td>\n",
       "      <td>1950</td>\n",
       "      <td>1950</td>\n",
       "      <td>0.0</td>\n",
       "      <td>0</td>\n",
       "      <td>0</td>\n",
       "      <td>0</td>\n",
       "      <td>0</td>\n",
       "      <td>1040</td>\n",
       "      <td>0</td>\n",
       "      <td>0</td>\n",
       "      <td>1040</td>\n",
       "      <td>0</td>\n",
       "      <td>0</td>\n",
       "      <td>1</td>\n",
       "      <td>0</td>\n",
       "      <td>2</td>\n",
       "      <td>1</td>\n",
       "      <td>5</td>\n",
       "      <td>0</td>\n",
       "      <td>2</td>\n",
       "      <td>625</td>\n",
       "      <td>0</td>\n",
       "      <td>0</td>\n",
       "      <td>0</td>\n",
       "      <td>0</td>\n",
       "      <td>0</td>\n",
       "      <td>0</td>\n",
       "      <td>0</td>\n",
       "      <td>6</td>\n",
       "      <td>2006</td>\n",
       "    </tr>\n",
       "    <tr>\n",
       "      <th>1261</th>\n",
       "      <td>20</td>\n",
       "      <td>80.0</td>\n",
       "      <td>9600</td>\n",
       "      <td>5</td>\n",
       "      <td>6</td>\n",
       "      <td>1956</td>\n",
       "      <td>1956</td>\n",
       "      <td>0.0</td>\n",
       "      <td>504</td>\n",
       "      <td>0</td>\n",
       "      <td>546</td>\n",
       "      <td>1050</td>\n",
       "      <td>1050</td>\n",
       "      <td>0</td>\n",
       "      <td>0</td>\n",
       "      <td>1050</td>\n",
       "      <td>0</td>\n",
       "      <td>0</td>\n",
       "      <td>1</td>\n",
       "      <td>0</td>\n",
       "      <td>2</td>\n",
       "      <td>1</td>\n",
       "      <td>5</td>\n",
       "      <td>0</td>\n",
       "      <td>1</td>\n",
       "      <td>338</td>\n",
       "      <td>0</td>\n",
       "      <td>0</td>\n",
       "      <td>0</td>\n",
       "      <td>0</td>\n",
       "      <td>0</td>\n",
       "      <td>0</td>\n",
       "      <td>0</td>\n",
       "      <td>6</td>\n",
       "      <td>2009</td>\n",
       "    </tr>\n",
       "    <tr>\n",
       "      <th>...</th>\n",
       "      <td>...</td>\n",
       "      <td>...</td>\n",
       "      <td>...</td>\n",
       "      <td>...</td>\n",
       "      <td>...</td>\n",
       "      <td>...</td>\n",
       "      <td>...</td>\n",
       "      <td>...</td>\n",
       "      <td>...</td>\n",
       "      <td>...</td>\n",
       "      <td>...</td>\n",
       "      <td>...</td>\n",
       "      <td>...</td>\n",
       "      <td>...</td>\n",
       "      <td>...</td>\n",
       "      <td>...</td>\n",
       "      <td>...</td>\n",
       "      <td>...</td>\n",
       "      <td>...</td>\n",
       "      <td>...</td>\n",
       "      <td>...</td>\n",
       "      <td>...</td>\n",
       "      <td>...</td>\n",
       "      <td>...</td>\n",
       "      <td>...</td>\n",
       "      <td>...</td>\n",
       "      <td>...</td>\n",
       "      <td>...</td>\n",
       "      <td>...</td>\n",
       "      <td>...</td>\n",
       "      <td>...</td>\n",
       "      <td>...</td>\n",
       "      <td>...</td>\n",
       "      <td>...</td>\n",
       "      <td>...</td>\n",
       "    </tr>\n",
       "    <tr>\n",
       "      <th>784</th>\n",
       "      <td>75</td>\n",
       "      <td>35.0</td>\n",
       "      <td>6300</td>\n",
       "      <td>6</td>\n",
       "      <td>6</td>\n",
       "      <td>1914</td>\n",
       "      <td>2001</td>\n",
       "      <td>0.0</td>\n",
       "      <td>0</td>\n",
       "      <td>0</td>\n",
       "      <td>742</td>\n",
       "      <td>742</td>\n",
       "      <td>742</td>\n",
       "      <td>742</td>\n",
       "      <td>0</td>\n",
       "      <td>1484</td>\n",
       "      <td>0</td>\n",
       "      <td>0</td>\n",
       "      <td>2</td>\n",
       "      <td>0</td>\n",
       "      <td>3</td>\n",
       "      <td>1</td>\n",
       "      <td>9</td>\n",
       "      <td>1</td>\n",
       "      <td>0</td>\n",
       "      <td>0</td>\n",
       "      <td>0</td>\n",
       "      <td>291</td>\n",
       "      <td>134</td>\n",
       "      <td>0</td>\n",
       "      <td>0</td>\n",
       "      <td>0</td>\n",
       "      <td>0</td>\n",
       "      <td>6</td>\n",
       "      <td>2008</td>\n",
       "    </tr>\n",
       "    <tr>\n",
       "      <th>516</th>\n",
       "      <td>80</td>\n",
       "      <td>0.0</td>\n",
       "      <td>10448</td>\n",
       "      <td>6</td>\n",
       "      <td>6</td>\n",
       "      <td>1972</td>\n",
       "      <td>1972</td>\n",
       "      <td>333.0</td>\n",
       "      <td>0</td>\n",
       "      <td>0</td>\n",
       "      <td>689</td>\n",
       "      <td>689</td>\n",
       "      <td>1378</td>\n",
       "      <td>741</td>\n",
       "      <td>0</td>\n",
       "      <td>2119</td>\n",
       "      <td>0</td>\n",
       "      <td>0</td>\n",
       "      <td>2</td>\n",
       "      <td>1</td>\n",
       "      <td>3</td>\n",
       "      <td>1</td>\n",
       "      <td>7</td>\n",
       "      <td>1</td>\n",
       "      <td>2</td>\n",
       "      <td>583</td>\n",
       "      <td>0</td>\n",
       "      <td>104</td>\n",
       "      <td>0</td>\n",
       "      <td>0</td>\n",
       "      <td>0</td>\n",
       "      <td>0</td>\n",
       "      <td>0</td>\n",
       "      <td>8</td>\n",
       "      <td>2009</td>\n",
       "    </tr>\n",
       "    <tr>\n",
       "      <th>469</th>\n",
       "      <td>60</td>\n",
       "      <td>76.0</td>\n",
       "      <td>9291</td>\n",
       "      <td>6</td>\n",
       "      <td>5</td>\n",
       "      <td>1993</td>\n",
       "      <td>1993</td>\n",
       "      <td>120.0</td>\n",
       "      <td>426</td>\n",
       "      <td>0</td>\n",
       "      <td>406</td>\n",
       "      <td>832</td>\n",
       "      <td>832</td>\n",
       "      <td>878</td>\n",
       "      <td>0</td>\n",
       "      <td>1710</td>\n",
       "      <td>0</td>\n",
       "      <td>0</td>\n",
       "      <td>2</td>\n",
       "      <td>1</td>\n",
       "      <td>3</td>\n",
       "      <td>1</td>\n",
       "      <td>7</td>\n",
       "      <td>0</td>\n",
       "      <td>2</td>\n",
       "      <td>506</td>\n",
       "      <td>144</td>\n",
       "      <td>70</td>\n",
       "      <td>0</td>\n",
       "      <td>0</td>\n",
       "      <td>0</td>\n",
       "      <td>0</td>\n",
       "      <td>0</td>\n",
       "      <td>6</td>\n",
       "      <td>2008</td>\n",
       "    </tr>\n",
       "    <tr>\n",
       "      <th>256</th>\n",
       "      <td>60</td>\n",
       "      <td>64.0</td>\n",
       "      <td>8791</td>\n",
       "      <td>6</td>\n",
       "      <td>5</td>\n",
       "      <td>2003</td>\n",
       "      <td>2003</td>\n",
       "      <td>0.0</td>\n",
       "      <td>503</td>\n",
       "      <td>0</td>\n",
       "      <td>361</td>\n",
       "      <td>864</td>\n",
       "      <td>864</td>\n",
       "      <td>864</td>\n",
       "      <td>0</td>\n",
       "      <td>1728</td>\n",
       "      <td>0</td>\n",
       "      <td>0</td>\n",
       "      <td>2</td>\n",
       "      <td>1</td>\n",
       "      <td>3</td>\n",
       "      <td>1</td>\n",
       "      <td>7</td>\n",
       "      <td>0</td>\n",
       "      <td>2</td>\n",
       "      <td>673</td>\n",
       "      <td>216</td>\n",
       "      <td>56</td>\n",
       "      <td>0</td>\n",
       "      <td>0</td>\n",
       "      <td>0</td>\n",
       "      <td>0</td>\n",
       "      <td>0</td>\n",
       "      <td>5</td>\n",
       "      <td>2008</td>\n",
       "    </tr>\n",
       "    <tr>\n",
       "      <th>1314</th>\n",
       "      <td>20</td>\n",
       "      <td>60.0</td>\n",
       "      <td>8190</td>\n",
       "      <td>4</td>\n",
       "      <td>6</td>\n",
       "      <td>1954</td>\n",
       "      <td>1954</td>\n",
       "      <td>0.0</td>\n",
       "      <td>732</td>\n",
       "      <td>0</td>\n",
       "      <td>216</td>\n",
       "      <td>948</td>\n",
       "      <td>948</td>\n",
       "      <td>0</td>\n",
       "      <td>0</td>\n",
       "      <td>948</td>\n",
       "      <td>1</td>\n",
       "      <td>0</td>\n",
       "      <td>1</td>\n",
       "      <td>0</td>\n",
       "      <td>3</td>\n",
       "      <td>1</td>\n",
       "      <td>5</td>\n",
       "      <td>1</td>\n",
       "      <td>1</td>\n",
       "      <td>280</td>\n",
       "      <td>0</td>\n",
       "      <td>36</td>\n",
       "      <td>0</td>\n",
       "      <td>0</td>\n",
       "      <td>0</td>\n",
       "      <td>0</td>\n",
       "      <td>0</td>\n",
       "      <td>10</td>\n",
       "      <td>2007</td>\n",
       "    </tr>\n",
       "  </tbody>\n",
       "</table>\n",
       "<p>930 rows × 35 columns</p>\n",
       "</div>"
      ],
      "text/plain": [
       "      MSSubClass  LotFrontage  LotArea  OverallQual  OverallCond  YearBuilt  YearRemodAdd  MasVnrArea  BsmtFinSF1  BsmtFinSF2  BsmtUnfSF  TotalBsmtSF  1stFlrSF  2ndFlrSF  LowQualFinSF  GrLivArea  BsmtFullBath  BsmtHalfBath  FullBath  HalfBath  BedroomAbvGr  KitchenAbvGr  TotRmsAbvGrd  Fireplaces  GarageCars  GarageArea  WoodDeckSF  OpenPorchSF  EnclosedPorch  3SsnPorch  ScreenPorch  PoolArea  MiscVal  MoSold  YrSold\n",
       "1014          20         60.0    11664            6            5       1948          1950       206.0         336           0        746         1082      1082         0             0       1082             0             0         1         0             2             1             5           1           1         240           0          130              0          0            0         0        0      11    2007\n",
       "1106          20        114.0    10357            7            5       1990          1991         0.0         738           0        172          910      1442         0             0       1442             1             0         2         0             3             1             6           1           2         719           0          244              0          0            0         0        0       5    2007\n",
       "813           20         75.0     9750            6            6       1958          1958       243.0         608           0        834         1442      1442         0             0       1442             0             0         1         1             4             1             7           0           1         301           0            0            275          0            0         0      500       4    2007\n",
       "156           20         60.0     7200            5            7       1950          1950         0.0           0           0          0            0      1040         0             0       1040             0             0         1         0             2             1             5           0           2         625           0            0              0          0            0         0        0       6    2006\n",
       "1261          20         80.0     9600            5            6       1956          1956         0.0         504           0        546         1050      1050         0             0       1050             0             0         1         0             2             1             5           0           1         338           0            0              0          0            0         0        0       6    2009\n",
       "...          ...          ...      ...          ...          ...        ...           ...         ...         ...         ...        ...          ...       ...       ...           ...        ...           ...           ...       ...       ...           ...           ...           ...         ...         ...         ...         ...          ...            ...        ...          ...       ...      ...     ...     ...\n",
       "784           75         35.0     6300            6            6       1914          2001         0.0           0           0        742          742       742       742             0       1484             0             0         2         0             3             1             9           1           0           0           0          291            134          0            0         0        0       6    2008\n",
       "516           80          0.0    10448            6            6       1972          1972       333.0           0           0        689          689      1378       741             0       2119             0             0         2         1             3             1             7           1           2         583           0          104              0          0            0         0        0       8    2009\n",
       "469           60         76.0     9291            6            5       1993          1993       120.0         426           0        406          832       832       878             0       1710             0             0         2         1             3             1             7           0           2         506         144           70              0          0            0         0        0       6    2008\n",
       "256           60         64.0     8791            6            5       2003          2003         0.0         503           0        361          864       864       864             0       1728             0             0         2         1             3             1             7           0           2         673         216           56              0          0            0         0        0       5    2008\n",
       "1314          20         60.0     8190            4            6       1954          1954         0.0         732           0        216          948       948         0             0        948             1             0         1         0             3             1             5           1           1         280           0           36              0          0            0         0        0      10    2007\n",
       "\n",
       "[930 rows x 35 columns]"
      ]
     },
     "execution_count": 397,
     "metadata": {},
     "output_type": "execute_result"
    }
   ],
   "source": [
    "xtrain[numerical_features]"
   ]
  },
  {
   "cell_type": "code",
   "execution_count": 398,
   "id": "71aae824",
   "metadata": {},
   "outputs": [
    {
     "data": {
      "text/plain": [
       "MSSubClass       1.870253e+03\n",
       "LotFrontage      1.164170e+03\n",
       "LotArea          7.585441e+07\n",
       "OverallQual      2.023659e+00\n",
       "OverallCond      1.293967e+00\n",
       "YearBuilt        9.004615e+02\n",
       "YearRemodAdd     4.337220e+02\n",
       "MasVnrArea       3.091488e+04\n",
       "BsmtFinSF1       2.154917e+05\n",
       "BsmtFinSF2       2.245205e+04\n",
       "BsmtUnfSF        2.003427e+05\n",
       "TotalBsmtSF      2.044610e+05\n",
       "1stFlrSF         1.525559e+05\n",
       "2ndFlrSF         1.880705e+05\n",
       "LowQualFinSF     2.788186e+03\n",
       "GrLivArea        2.883114e+05\n",
       "BsmtFullBath     2.720882e-01\n",
       "BsmtHalfBath     5.715013e-02\n",
       "FullBath         3.029920e-01\n",
       "HalfBath         2.561443e-01\n",
       "BedroomAbvGr     6.950021e-01\n",
       "KitchenAbvGr     5.158049e-02\n",
       "TotRmsAbvGrd     2.773402e+00\n",
       "Fireplaces       3.974918e-01\n",
       "GarageCars       5.797759e-01\n",
       "GarageArea       4.873586e+04\n",
       "WoodDeckSF       1.658946e+04\n",
       "OpenPorchSF      4.222471e+03\n",
       "EnclosedPorch    4.054911e+03\n",
       "3SsnPorch        1.018415e+03\n",
       "ScreenPorch      2.596019e+03\n",
       "PoolArea         2.528319e+03\n",
       "MiscVal          1.253210e+05\n",
       "MoSold           7.369336e+00\n",
       "YrSold           1.747213e+00\n",
       "dtype: float64"
      ]
     },
     "execution_count": 398,
     "metadata": {},
     "output_type": "execute_result"
    }
   ],
   "source": [
    "xtrain[numerical_features].var()"
   ]
  },
  {
   "cell_type": "markdown",
   "id": "b3e53afa",
   "metadata": {},
   "source": [
    "No columns has only one value so for now we keep all of them"
   ]
  },
  {
   "cell_type": "markdown",
   "id": "eee1688e",
   "metadata": {},
   "source": [
    "## Divide features by type"
   ]
  },
  {
   "cell_type": "code",
   "execution_count": 399,
   "id": "296d4d40",
   "metadata": {},
   "outputs": [],
   "source": [
    "def divide_by_type(df):  \n",
    "    categorical_features=[features for features in df.columns if df[features].dtype==\"O\"]\n",
    "    numerical_features=[features for features in df.columns if df[features].dtype!=\"O\"]\n",
    "    date_features=[features for features in df.columns if \"Yr\" in features or \"Year\" in features or \"Mo\" in features]\n",
    "    features=[]\n",
    "    for feature in numerical_features:\n",
    "        if feature not in date_features:\n",
    "            features.append(feature)\n",
    "    numerical_features=features\n",
    "    return categorical_features,numerical_features,date_features\n",
    "\n",
    "categorical_features,numerical_features,date_features=divide_by_type(xtrain)"
   ]
  },
  {
   "cell_type": "markdown",
   "id": "022163c3",
   "metadata": {},
   "source": [
    "## Ordinal Features"
   ]
  },
  {
   "cell_type": "code",
   "execution_count": 400,
   "id": "54072476",
   "metadata": {},
   "outputs": [],
   "source": [
    "ordinal_numerical_features=xtrain[numerical_features].max()[xtrain[numerical_features].max() <= 14].index.tolist()\n",
    "ordinal_features=[features for features in xtrain.columns if re.search('Qu$',features) or re.search('QC',features) or re.search('Qual$',features) or re.search('Cond$',features)]\n",
    "ordinal_categorical_features=[features for features in ordinal_features if xtrain[features].dtype==\"O\"]"
   ]
  },
  {
   "cell_type": "code",
   "execution_count": 416,
   "id": "c73c0437",
   "metadata": {},
   "outputs": [],
   "source": [
    "    \n",
    "    for feature in numerical_features:\n",
    "        if feature in ordinal_numerical_features:\n",
    "            numerical_features.remove(feature)\n",
    "            \n",
    "        if feature in ordinal_categorical_features:\n",
    "            numerical_features.remove(feature)\n",
    "    \n",
    "    \n",
    "\n",
    "    for feature in categorical_features:\n",
    "        if feature in ordinal_categorical_features:\n",
    "            categorical_features.remove(feature)\n",
    "            \n",
    "        if feature in ordinal_numerical_features:\n",
    "            categorical_features.remove(feature)"
   ]
  },
  {
   "cell_type": "code",
   "execution_count": 424,
   "id": "f2edde7f",
   "metadata": {},
   "outputs": [],
   "source": [
    "ordinal_numerical_features.remove(\"GarageCars\")"
   ]
  },
  {
   "cell_type": "code",
   "execution_count": 423,
   "id": "e4711188",
   "metadata": {},
   "outputs": [
    {
     "data": {
      "text/plain": [
       "['MSSubClass',\n",
       " 'LotFrontage',\n",
       " 'LotArea',\n",
       " 'MasVnrArea',\n",
       " 'BsmtFinSF1',\n",
       " 'BsmtFinSF2',\n",
       " 'BsmtUnfSF',\n",
       " 'TotalBsmtSF',\n",
       " '1stFlrSF',\n",
       " '2ndFlrSF',\n",
       " 'LowQualFinSF',\n",
       " 'GrLivArea',\n",
       " 'GarageArea',\n",
       " 'WoodDeckSF',\n",
       " 'OpenPorchSF',\n",
       " 'EnclosedPorch',\n",
       " '3SsnPorch',\n",
       " 'ScreenPorch',\n",
       " 'PoolArea',\n",
       " 'MiscVal']"
      ]
     },
     "execution_count": 423,
     "metadata": {},
     "output_type": "execute_result"
    }
   ],
   "source": [
    "numerical_features=xtrain[numerical_features].var()[xtrain[numerical_features].var() >= 1].index.tolist()"
   ]
  },
  {
   "cell_type": "code",
   "execution_count": 446,
   "id": "5477f54f",
   "metadata": {},
   "outputs": [
    {
     "data": {
      "text/plain": [
       "array([ 5,  6,  7,  8, 10,  4, 12,  9,  2,  3, 11, 14], dtype=int64)"
      ]
     },
     "execution_count": 446,
     "metadata": {},
     "output_type": "execute_result"
    }
   ],
   "source": []
  },
  {
   "cell_type": "code",
   "execution_count": 454,
   "id": "9dd57073",
   "metadata": {
    "scrolled": false
   },
   "outputs": [
    {
     "data": {
      "image/png": "[encoded data removed]",
      "text/plain": [
       "<Figure size 432x288 with 1 Axes>"
      ]
     },
     "metadata": {
      "needs_background": "light"
     },
     "output_type": "display_data"
    },
    {
     "data": {
      "image/png": "[encoded data removed]",
      "text/plain": [
       "<Figure size 432x288 with 1 Axes>"
      ]
     },
     "metadata": {
      "needs_background": "light"
     },
     "output_type": "display_data"
    },
    {
     "data": {
      "image/png": "[encoded data removed]",
      "text/plain": [
       "<Figure size 432x288 with 1 Axes>"
      ]
     },
     "metadata": {
      "needs_background": "light"
     },
     "output_type": "display_data"
    },
    {
     "data": {
      "image/png": "[encoded data removed]",
      "text/plain": [
       "<Figure size 432x288 with 1 Axes>"
      ]
     },
     "metadata": {
      "needs_background": "light"
     },
     "output_type": "display_data"
    },
    {
     "data": {
      "image/png": "[encoded data removed]",
      "text/plain": [
       "<Figure size 432x288 with 1 Axes>"
      ]
     },
     "metadata": {
      "needs_background": "light"
     },
     "output_type": "display_data"
    },
    {
     "data": {
      "image/png": "[encoded data removed]",
      "text/plain": [
       "<Figure size 432x288 with 1 Axes>"
      ]
     },
     "metadata": {
      "needs_background": "light"
     },
     "output_type": "display_data"
    },
    {
     "data": {
      "image/png": "[encoded data removed]",
      "text/plain": [
       "<Figure size 432x288 with 1 Axes>"
      ]
     },
     "metadata": {
      "needs_background": "light"
     },
     "output_type": "display_data"
    },
    {
     "data": {
      "image/png": "[encoded data removed]",
      "text/plain": [
       "<Figure size 432x288 with 1 Axes>"
      ]
     },
     "metadata": {
      "needs_background": "light"
     },
     "output_type": "display_data"
    },
    {
     "data": {
      "image/png": "[encoded data removed]",
      "text/plain": [
       "<Figure size 432x288 with 1 Axes>"
      ]
     },
     "metadata": {
      "needs_background": "light"
     },
     "output_type": "display_data"
    },
    {
     "data": {
      "image/png": "[encoded data removed]",
      "text/plain": [
       "<Figure size 432x288 with 1 Axes>"
      ]
     },
     "metadata": {
      "needs_background": "light"
     },
     "output_type": "display_data"
    }
   ],
   "source": []
  },
  {
   "cell_type": "code",
   "execution_count": null,
   "id": "da067828",
   "metadata": {},
   "outputs": [],
   "source": []
  },
  {
   "cell_type": "markdown",
   "id": "8becf1b5",
   "metadata": {},
   "source": [
    "## Feature Engineering"
   ]
  },
  {
   "cell_type": "code",
   "execution_count": 402,
   "id": "dc688ef7",
   "metadata": {},
   "outputs": [],
   "source": []
  },
  {
   "cell_type": "code",
   "execution_count": null,
   "id": "ed4aa9e3",
   "metadata": {},
   "outputs": [],
   "source": []
  },
  {
   "cell_type": "code",
   "execution_count": null,
   "id": "14748716",
   "metadata": {},
   "outputs": [],
   "source": []
  }
 ],
 "metadata": {
  "kernelspec": {
   "display_name": "myvenv1",
   "language": "python",
   "name": "myenv"
  },
  "language_info": {
   "codemirror_mode": {
    "name": "ipython",
    "version": 3
   },
   "file_extension": ".py",
   "mimetype": "text/x-python",
   "name": "python",
   "nbconvert_exporter": "python",
   "pygments_lexer": "ipython3",
   "version": "3.9.12"
  }
 },
 "nbformat": 4,
 "nbformat_minor": 5
}
