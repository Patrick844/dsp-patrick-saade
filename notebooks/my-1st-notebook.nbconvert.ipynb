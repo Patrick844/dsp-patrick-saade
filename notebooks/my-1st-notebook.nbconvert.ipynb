{
 "cells": [
  {
   "cell_type": "code",
   "execution_count": 3,
   "id": "cd361581",
   "metadata": {
    "execution": {
     "iopub.execute_input": "2022-03-24T21:46:15.426383Z",
     "iopub.status.busy": "2022-03-24T21:46:15.426383Z",
     "iopub.status.idle": "2022-03-24T21:46:15.535383Z",
     "shell.execute_reply": "2022-03-24T21:46:15.535383Z"
    }
   },
   "outputs": [
    {
     "data": {
      "text/plain": [
       "array([[65, 36, 75],\n",
       "       [29, 28, 52],\n",
       "       [76, 87, 12],\n",
       "       [12, 98, 65],\n",
       "       [33, 41, 18],\n",
       "       [35, 90,  4],\n",
       "       [46, 28,  7],\n",
       "       [43, 75, 96],\n",
       "       [76, 35, 61],\n",
       "       [59, 37, 40]])"
      ]
     },
     "metadata": {},
     "output_type": "display_data"
    }
   ],
   "source": [
    "import numpy as np\n",
    "from IPython.display import display\n",
    "\n",
    "random_value=np.random.randint(100,size=(10,3))\n",
    "display(random_value)"
   ]
  }
 ],
 "metadata": {
  "celltoolbar": "Edit Metadata",
  "kernelspec": {
   "display_name": "ml",
   "language": "python",
   "name": "ml"
  },
  "language_info": {
   "codemirror_mode": {
    "name": "ipython",
    "version": 3
   },
   "file_extension": ".py",
   "mimetype": "text/x-python",
   "name": "python",
   "nbconvert_exporter": "python",
   "pygments_lexer": "ipython3",
   "version": "3.9.7"
  },
  "widgets": {
   "application/vnd.jupyter.widget-state+json": {
    "state": {},
    "version_major": 2,
    "version_minor": 0
   }
  }
 },
 "nbformat": 4,
 "nbformat_minor": 5
}
