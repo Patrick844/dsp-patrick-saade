{
 "cells": [
  {
   "cell_type": "code",
   "execution_count": 856,
   "id": "da17c8e2",
   "metadata": {},
   "outputs": [],
   "source": [
    "import pandas as pd\n",
    "pd.options.mode.chained_assignment = None \n",
    "\n",
    "import numpy as np\n",
    "import seaborn as sns\n",
    "import re\n",
    "import pickle\n",
    "from sklearn.model_selection import train_test_split\n",
    "import matplotlib.pyplot as plt\n",
    "from sklearn.feature_selection import r_regression,f_classif\n",
    "from sklearn.preprocessing import OrdinalEncoder\n",
    "from sklearn.linear_model import LinearRegression\n",
    "from sklearn.preprocessing import MinMaxScaler\n",
    "from sklearn.preprocessing import OneHotEncoder"
   ]
  },
  {
   "cell_type": "markdown",
   "id": "05fd7bf9",
   "metadata": {},
   "source": [
    "## Loading and Splitting Data"
   ]
  },
  {
   "cell_type": "code",
   "execution_count": 857,
   "id": "7c4bb5f0",
   "metadata": {},
   "outputs": [],
   "source": [
    "df=pd.read_csv(\"../data/train.csv\")\n",
    "df_train=df.drop(\"SalePrice\",axis=1)\n",
    "dftest=pd.read_csv(\"../data/test.csv\")\n",
    "df_result=pd.read_csv(\"../data/sample_submission.csv\")"
   ]
  },
  {
   "cell_type": "code",
   "execution_count": 858,
   "id": "d15ada7c",
   "metadata": {},
   "outputs": [],
   "source": [
    "X=df.iloc[:,:-1]\n",
    "Y=df.iloc[:,-1]"
   ]
  },
  {
   "cell_type": "code",
   "execution_count": 859,
   "id": "24b3d12a",
   "metadata": {},
   "outputs": [],
   "source": [
    "xtrain,xtest,ytrain,ytest=train_test_split(X,Y,test_size=0.30,random_state=42)"
   ]
  },
  {
   "cell_type": "markdown",
   "id": "b5fc85cb",
   "metadata": {},
   "source": [
    "## Feature selection"
   ]
  },
  {
   "cell_type": "code",
   "execution_count": 860,
   "id": "2bf58065",
   "metadata": {},
   "outputs": [],
   "source": [
    "def feature_selection(df):\n",
    "    df=df[[\"Neighborhood\",\"LotArea\",\"Utilities\",\"OverallQual\",\n",
    "           \"YearBuilt\",\"GrLivArea\",\"ExterCond\",\"1stFlrSF\",\"TotRmsAbvGrd\",\"KitchenQual\"]]\n",
    "    return df\n",
    "\n"
   ]
  },
  {
   "cell_type": "markdown",
   "id": "2dda718c",
   "metadata": {},
   "source": [
    "## Divide Features By Type"
   ]
  },
  {
   "cell_type": "code",
   "execution_count": 861,
   "id": "296d4d40",
   "metadata": {},
   "outputs": [],
   "source": [
    "def divide_by_type(df):  \n",
    "    categorical_features=[features for features in df.columns if df[features].dtype==\"O\"]\n",
    "    numerical_features=[features for features in df.columns if df[features].dtype!=\"O\"]\n",
    "    date_features=[features for features in df.columns if \"Yr\" in features\n",
    "                   or \"Year\" in features \n",
    "                   or \"Mo\" in features]\n",
    "    features=[]\n",
    "    for feature in numerical_features:\n",
    "        if feature not in date_features:\n",
    "            features.append(feature)\n",
    "    numerical_features=features\n",
    "    return categorical_features,numerical_features,date_features\n",
    "\n"
   ]
  },
  {
   "cell_type": "markdown",
   "id": "022163c3",
   "metadata": {},
   "source": [
    "## Divide Ordinal Features"
   ]
  },
  {
   "cell_type": "code",
   "execution_count": 862,
   "id": "54072476",
   "metadata": {},
   "outputs": [],
   "source": [
    "def divide_ordinal_features(df,categorical_features,numerical_features):    \n",
    "    ordinal_numerical_features=df[numerical_features].max()[df[numerical_features].max() <= 15].index.tolist()\n",
    "    ordinal_features=[features for features in df.columns if re.search('Qu$',features)\n",
    "                      or re.search('QC',features)\n",
    "                      or re.search('Qual$',features)\n",
    "                      or re.search('Cond$',features)\n",
    "                      or re.search('AbvGrd$',features)]\n",
    "    \n",
    "    ordinal_categorical_features=[features for features in ordinal_features if df[features].dtype==\"O\"]\n",
    "    return ordinal_features, ordinal_numerical_features, ordinal_categorical_features\n",
    "\n"
   ]
  },
  {
   "cell_type": "code",
   "execution_count": 863,
   "id": "c73c0437",
   "metadata": {},
   "outputs": [],
   "source": [
    "def update_categorical_and_numerical_features(numerical_features,\n",
    "                                              categorical_features,\n",
    "                                              features_to_remove):\n",
    "    \n",
    "    update_numerical = []\n",
    "    for feature in numerical_features:\n",
    "        if feature not in (features_to_remove):\n",
    "            update_numerical.append(feature)\n",
    "\n",
    "    update_categorical = []\n",
    "    for feature in categorical_features:\n",
    "        if feature not in features_to_remove:\n",
    "            update_categorical.append(feature)\n",
    "    \n",
    "    return update_numerical,update_categorical"
   ]
  },
  {
   "cell_type": "markdown",
   "id": "f01cadee",
   "metadata": {},
   "source": [
    "## Preprocessing Numerical Features"
   ]
  },
  {
   "cell_type": "code",
   "execution_count": 864,
   "id": "5cd0e054",
   "metadata": {},
   "outputs": [],
   "source": [
    "def fill_numerical_missing_values(df,numerical_features):\n",
    "    df_numerical=df[numerical_features ].fillna(0)\n",
    "    return df_numerical"
   ]
  },
  {
   "cell_type": "code",
   "execution_count": 865,
   "id": "e155a474",
   "metadata": {},
   "outputs": [],
   "source": [
    "def fit_scaler_min_max(df,numerical_features):\n",
    "    scaler=MinMaxScaler()\n",
    "    scaler.fit(df[numerical_features])\n",
    "    pickle.dump(scaler,open('../models/MinMax_Numerical_scaler.pickle','wb'))\n",
    "    return scaler"
   ]
  },
  {
   "cell_type": "code",
   "execution_count": 866,
   "id": "66b85691",
   "metadata": {},
   "outputs": [],
   "source": [
    "def transform_scaler_min_max(df,numerical_features):\n",
    "    \n",
    "    scaler=pickle.load(open('../models/MinMax_Numerical_scaler.pickle','rb'))\n",
    "    df[numerical_features] = scaler.transform(df[numerical_features])\n",
    "    \n",
    "    return df"
   ]
  },
  {
   "cell_type": "markdown",
   "id": "4b349bfd",
   "metadata": {},
   "source": [
    "## Preprocessing Categorical Features"
   ]
  },
  {
   "cell_type": "code",
   "execution_count": 867,
   "id": "8a9b0384",
   "metadata": {},
   "outputs": [],
   "source": [
    "def fill_missing_categorical_values(df,categorical_features):\n",
    "    \n",
    "    for feature in categorical_features:\n",
    "        if df[feature].isnull().sum()==1: \n",
    "            df[feature]=df[feature].fillna(df[feature].mode())\n",
    "        else:\n",
    "            df[feature]=df[feature].fillna(\"Missing\")\n",
    "    return df[categorical_features]"
   ]
  },
  {
   "cell_type": "code",
   "execution_count": 868,
   "id": "caa52813",
   "metadata": {},
   "outputs": [],
   "source": [
    "def fit_one_hot_encoding(df,categorical_features):\n",
    "    \n",
    "    enc=OneHotEncoder(handle_unknown=\"ignore\",sparse=False)\n",
    "    enc.fit(df[categorical_features])\n",
    "    pickle.dump(enc,open('../models/One_Hot_Encoder.pickle','wb'))\n",
    "\n",
    "    return enc"
   ]
  },
  {
   "cell_type": "code",
   "execution_count": null,
   "id": "e10512f1",
   "metadata": {},
   "outputs": [],
   "source": []
  },
  {
   "cell_type": "code",
   "execution_count": 869,
   "id": "77fc4ebb",
   "metadata": {},
   "outputs": [],
   "source": [
    "def transform_one_hot(df,categorical_features):\n",
    "\n",
    "        enc=pickle.load(open('../models/One_Hot_Encoder.pickle','rb'))\n",
    "        values=enc.transform(df[categorical_features])\n",
    "        names=enc.get_feature_names_out(df[categorical_features].columns)\n",
    "        df1=pd.DataFrame(columns=names)\n",
    "        df=pd.concat([df,df1],axis=1)\n",
    "        df[names]=values\n",
    "        df=df.drop(categorical_features,axis=1)\n",
    "        return df"
   ]
  },
  {
   "cell_type": "markdown",
   "id": "1a3c9c68",
   "metadata": {},
   "source": [
    "## Preprocessing Ordinal Numerical Features"
   ]
  },
  {
   "cell_type": "code",
   "execution_count": 870,
   "id": "6007a7b3",
   "metadata": {},
   "outputs": [],
   "source": [
    "def fill_missing_ordinal_numericals_values(df,ordinal_numerical_features):\n",
    "    if np.sum(df[ordinal_numerical_features].isnull().sum() > 0):\n",
    "        df[ordinal_numerical_features]=df[ordinal_numerical_features].fillna(0)\n",
    "    return df[ordinal_numerical_features]\n",
    "    \n",
    "    "
   ]
  },
  {
   "cell_type": "code",
   "execution_count": 871,
   "id": "2f8e10dc",
   "metadata": {},
   "outputs": [],
   "source": [
    "def fit_scaler_ordinal_numerical(df,ordinal_numerical_features):\n",
    "    scaler=MinMaxScaler()\n",
    "    scaler.fit(df[ordinal_numerical_features])\n",
    "    pickle.dump(scaler,open('../models/MinMax_Ordinal_Numerical_scaler.pickle','wb'))\n",
    "    return scaler\n"
   ]
  },
  {
   "cell_type": "code",
   "execution_count": null,
   "id": "ad2de1ff",
   "metadata": {},
   "outputs": [],
   "source": []
  },
  {
   "cell_type": "code",
   "execution_count": 872,
   "id": "dbb9f62d",
   "metadata": {},
   "outputs": [],
   "source": [
    "def transform_ordina_numerical_features(df,ordinal_numerical_features):\n",
    "\n",
    "\n",
    "    scaler = pickle.load(open('../models/MinMax_Ordinal_Numerical_scaler.pickle', mode='rb'))\n",
    "    df[ordinal_numerical_features]=scaler.transform(df[ordinal_numerical_features])\n",
    "    return df"
   ]
  },
  {
   "cell_type": "markdown",
   "id": "67007651",
   "metadata": {},
   "source": [
    "## Preprocessing Ordinal Categorical Features"
   ]
  },
  {
   "cell_type": "code",
   "execution_count": 873,
   "id": "91cb7438",
   "metadata": {},
   "outputs": [],
   "source": [
    "def fill_missing_ordinal_categorical_values(df,ordinal_categorical_features):\n",
    "    \n",
    "    for feature in ordinal_categorical_features:\n",
    "        if df[feature].isnull().sum()==1: \n",
    "            df[feature]=df[feature].fillna(df[feature].mode())\n",
    "        else:\n",
    "            df[feature]=df[feature].fillna(\"Missing\")\n",
    "    return df[ordinal_categorical_features]"
   ]
  },
  {
   "cell_type": "code",
   "execution_count": 874,
   "id": "604febbf",
   "metadata": {},
   "outputs": [],
   "source": [
    "def fit_ordinal_categorical(df,ordinal_categorical_features):\n",
    "    enc=OrdinalEncoder(\n",
    "                       handle_unknown=\"use_encoded_value\",\n",
    "                       unknown_value=6\n",
    "    )\n",
    "    enc.fit(df[ordinal_categorical_features])\n",
    "    pickle.dump(enc, open('../models/Ordinal_Encoder.pickle',\"wb\"))\n",
    "    return enc"
   ]
  },
  {
   "cell_type": "code",
   "execution_count": 875,
   "id": "1722a60c",
   "metadata": {},
   "outputs": [],
   "source": [
    "def transform_ordinal_categorical_features(df,ordinal_categorical_features):\n",
    "    enc=pickle.load( open('../models/Ordinal_Encoder.pickle',\"rb\"))\n",
    "    df[ordinal_categorical_features]=enc.transform(df[ordinal_categorical_features])\n",
    "    return df"
   ]
  },
  {
   "cell_type": "code",
   "execution_count": 876,
   "id": "8f8f825a",
   "metadata": {},
   "outputs": [],
   "source": [
    "def fit_scaler_ordinal_categorical(df,ordinal_categorical_features):\n",
    "    scaler=MinMaxScaler()\n",
    "    scaler.fit(df[ordinal_categorical_features])\n",
    "    pickle.dump(scaler, open('../models/MinMax_Ordinal_Categorical_scaler.pickle', mode='wb'))\n",
    "    return scaler"
   ]
  },
  {
   "cell_type": "code",
   "execution_count": 877,
   "id": "c3bd8086",
   "metadata": {},
   "outputs": [],
   "source": [
    "def transform_scaler_ordinal_categorical(df,ordinal_categorical_features):\n",
    "    scaler=pickle.load( open('../models/MinMax_Ordinal_Categorical_scaler.pickle', mode='rb'))\n",
    "    df[ordinal_categorical_features]=scaler.transform(df[ordinal_categorical_features])\n",
    "    return df"
   ]
  },
  {
   "cell_type": "markdown",
   "id": "0095d524",
   "metadata": {},
   "source": [
    "## Preprocessing Date Features"
   ]
  },
  {
   "cell_type": "code",
   "execution_count": 878,
   "id": "9b286734",
   "metadata": {
    "scrolled": true
   },
   "outputs": [],
   "source": [
    "def fill_missing_dates_values(df,date_features):\n",
    "    \n",
    "    for features in date_features:\n",
    "        df[features]= df[features].fillna(df[features].mode())\n",
    "    \n",
    "    return df[date_features]"
   ]
  },
  {
   "cell_type": "code",
   "execution_count": 879,
   "id": "498e5ac1",
   "metadata": {},
   "outputs": [],
   "source": [
    "def fit_scaler_dates(df,date_features):\n",
    "    scaler=MinMaxScaler()\n",
    "    scaler.fit(df[date_features])\n",
    "    pickle.dump(scaler, open('../models/MinMax_dates_scaler.pickle', mode='wb'))\n",
    "    return scaler"
   ]
  },
  {
   "cell_type": "code",
   "execution_count": 880,
   "id": "3d35471b",
   "metadata": {},
   "outputs": [],
   "source": [
    "# with open('../models/MinMax_dates_scaler.pickle', mode='ab') as f:\n",
    "#     # Pickle the 'data' dictionary using the highest protocol available.\n",
    "#     pickle.dump(scaler, open('../models/MinMax_dates_scaler.pickle', mode='ab')), protocol=pickle.HIGHEST_PROTOCOL)"
   ]
  },
  {
   "cell_type": "code",
   "execution_count": 881,
   "id": "ec44cc38",
   "metadata": {},
   "outputs": [],
   "source": [
    "def transform_dates(df,date_features):\n",
    "    scaler=pickle.load(open('../models/MinMax_dates_scaler.pickle', mode='rb'))\n",
    "    df[date_features]=scaler.transform(df[date_features])\n",
    "    return df"
   ]
  },
  {
   "cell_type": "markdown",
   "id": "059fd191",
   "metadata": {},
   "source": [
    "## Model Building"
   ]
  },
  {
   "cell_type": "markdown",
   "id": "10e8d09d",
   "metadata": {},
   "source": [
    "### Model Training"
   ]
  },
  {
   "cell_type": "code",
   "execution_count": 882,
   "id": "00b78df0",
   "metadata": {},
   "outputs": [],
   "source": [
    "def pipeline_train_numerical_features(df,numerical_features):\n",
    "    \n",
    "    numerical_null=fill_numerical_missing_values(df,numerical_features)\n",
    "    df.loc[:,numerical_features]=numerical_null\n",
    "    scaler=fit_scaler_min_max(df,numerical_features)\n",
    "    df=transform_scaler_min_max(df,numerical_features)\n",
    "    return df\n",
    "    \n"
   ]
  },
  {
   "cell_type": "code",
   "execution_count": 883,
   "id": "2abb59c2",
   "metadata": {},
   "outputs": [],
   "source": [
    "def pipeline_train_categorical_feature(df,categorical_features):\n",
    "    \n",
    "    df[categorical_features]=fill_missing_categorical_values(df,categorical_features)\n",
    "    enc=fit_one_hot_encoding(df,categorical_features)\n",
    "    df=transform_one_hot(df,categorical_features)\n",
    "    return df\n",
    "    \n"
   ]
  },
  {
   "cell_type": "code",
   "execution_count": 884,
   "id": "3239cf14",
   "metadata": {},
   "outputs": [],
   "source": [
    "def pipeline_train_ordinal_numerical_features(df,ordinal_numerical_features):\n",
    "    \n",
    "    df[ordinal_numerical_features]=fill_missing_ordinal_numericals_values(df,ordinal_numerical_features)\n",
    "    scaler=fit_scaler_ordinal_numerical(df,ordinal_numerical_features)\n",
    "    df=transform_ordina_numerical_features(df,ordinal_numerical_features)\n",
    "    return df\n",
    "    \n"
   ]
  },
  {
   "cell_type": "code",
   "execution_count": 885,
   "id": "23092d49",
   "metadata": {},
   "outputs": [],
   "source": [
    "def pipeline_train_ordinal_categorical_features(df,ordinal_categorical_features):\n",
    "    \n",
    "    df[ordinal_categorical_features]=fill_missing_ordinal_categorical_values(df\n",
    "                                                                             ,ordinal_categorical_features)\n",
    "    enc=fit_ordinal_categorical(df,ordinal_categorical_features)\n",
    "    df=transform_ordinal_categorical_features(df,ordinal_categorical_features)\n",
    "    scaler=fit_scaler_ordinal_categorical(df,ordinal_categorical_features)\n",
    "    df=transform_scaler_ordinal_categorical(df,ordinal_categorical_features)\n",
    "    return df\n",
    "    \n"
   ]
  },
  {
   "cell_type": "code",
   "execution_count": 886,
   "id": "ecf80741",
   "metadata": {},
   "outputs": [],
   "source": [
    "def pipeline_train_dates_features(df,date_features):\n",
    "    \n",
    "    df[date_features]=fill_missing_dates_values(df,date_features)\n",
    "    scaler=fit_scaler_dates(df,date_features)\n",
    "    df=transform_dates(df,date_features)\n",
    "    return df\n",
    "    \n"
   ]
  },
  {
   "cell_type": "code",
   "execution_count": 887,
   "id": "624e9e9a",
   "metadata": {},
   "outputs": [],
   "source": [
    "def splitting_types(df):\n",
    "    df=feature_selection(df)\n",
    "    categorical_features,numerical_features,date_features=divide_by_type(df)\n",
    "    ordinal_features, ordinal_numerical_features, ordinal_categorical_features=divide_ordinal_features(df,categorical_features,numerical_features)\n",
    "    features_to_remove = ordinal_categorical_features+ordinal_numerical_features\n",
    "    print(features_to_remove)\n",
    "    numerical_features,categorical_features = update_categorical_and_numerical_features(numerical_features,\n",
    "                                                                                    categorical_features,\n",
    "                                                                                   features_to_remove)\n",
    "    return numerical_features,categorical_features,ordinal_features,ordinal_numerical_features,ordinal_categorical_features,date_features,df\n"
   ]
  },
  {
   "cell_type": "code",
   "execution_count": 888,
   "id": "68a487d3",
   "metadata": {},
   "outputs": [],
   "source": [
    "def model(xtrain,ytrain):    \n",
    "    xtrain=pipline_train(xtrain)\n",
    "    model=LinearRegression()\n",
    "    model.fit(xtrain,ytrain)\n",
    "    pickle.dump(model, open('../models/model.pickle', mode='wb'))\n",
    "    return model.score(xtrain,ytrain)"
   ]
  },
  {
   "cell_type": "code",
   "execution_count": 889,
   "id": "b81c7fb6",
   "metadata": {
    "scrolled": false
   },
   "outputs": [],
   "source": [
    "def pipline_train(df):\n",
    "    numerical_features,categorical_features,ordinal_features,ordinal_numerical_features,ordinal_categorical_features,date_features,df=splitting_types(df)\n",
    "    df=pipeline_train_numerical_features(df,numerical_features)\n",
    "    df=pipeline_train_categorical_feature(df,categorical_features)\n",
    "    df=pipeline_train_ordinal_numerical_features(df,ordinal_numerical_features)\n",
    "    df=pipeline_train_ordinal_categorical_features(df,ordinal_categorical_features)\n",
    "    df=pipeline_train_dates_features(df,date_features)\n",
    "    return df\n",
    "\n"
   ]
  },
  {
   "cell_type": "code",
   "execution_count": 890,
   "id": "eb6edb63",
   "metadata": {},
   "outputs": [
    {
     "name": "stdout",
     "output_type": "stream",
     "text": [
      "['ExterCond', 'KitchenQual', 'OverallQual', 'TotRmsAbvGrd']\n"
     ]
    },
    {
     "data": {
      "text/plain": [
       "0.804549138068474"
      ]
     },
     "execution_count": 890,
     "metadata": {},
     "output_type": "execute_result"
    }
   ],
   "source": [
    "model(xtrain,ytrain)"
   ]
  },
  {
   "cell_type": "markdown",
   "id": "b429741e",
   "metadata": {},
   "source": [
    "###  Model Evaluation"
   ]
  },
  {
   "cell_type": "code",
   "execution_count": 891,
   "id": "b149b1c6",
   "metadata": {},
   "outputs": [],
   "source": [
    "def pipeline_test_numerical_features(df,numerical_features):\n",
    "    \n",
    "    numerical_null=fill_numerical_missing_values(df,numerical_features)\n",
    "    df.loc[:,numerical_features]=numerical_null\n",
    "    df=transform_scaler_min_max(df,numerical_features)\n",
    "    return df\n",
    "    \n"
   ]
  },
  {
   "cell_type": "code",
   "execution_count": 892,
   "id": "a7997100",
   "metadata": {},
   "outputs": [],
   "source": [
    "def pipeline_test_categorical_feature(df,categorical_features):\n",
    "    \n",
    "    df[categorical_features]=fill_missing_categorical_values(df,categorical_features)\n",
    "    df=transform_one_hot(df,categorical_features)\n",
    "    return df"
   ]
  },
  {
   "cell_type": "code",
   "execution_count": 893,
   "id": "2696556d",
   "metadata": {},
   "outputs": [],
   "source": [
    "def pipeline_test_ordinal_numerical_features(df,ordinal_numerical_features):\n",
    "    \n",
    "    df[ordinal_numerical_features]=fill_missing_ordinal_numericals_values(df,ordinal_numerical_features)\n",
    "    df=transform_ordina_numerical_features(df,ordinal_numerical_features)\n",
    "    return df\n",
    "    \n"
   ]
  },
  {
   "cell_type": "code",
   "execution_count": 894,
   "id": "d833bd6d",
   "metadata": {},
   "outputs": [],
   "source": [
    "def pipeline_test_ordinal_categorical_features(df,ordinal_categorical_features):\n",
    "    \n",
    "    df[ordinal_categorical_features]=fill_missing_ordinal_categorical_values(df\n",
    "                                                                             ,ordinal_categorical_features)\n",
    "    df=transform_ordinal_categorical_features(df,ordinal_categorical_features)\n",
    "    df=transform_scaler_ordinal_categorical(df,ordinal_categorical_features)\n",
    "    return df\n",
    "    \n"
   ]
  },
  {
   "cell_type": "code",
   "execution_count": 895,
   "id": "9ffea186",
   "metadata": {},
   "outputs": [],
   "source": [
    "def pipeline_test_dates_features(df,date_features):\n",
    "    \n",
    "    df[date_features]=fill_missing_dates_values(df,date_features)\n",
    "    df=transform_dates(df,date_features)\n",
    "    return df"
   ]
  },
  {
   "cell_type": "code",
   "execution_count": 896,
   "id": "401586f2",
   "metadata": {},
   "outputs": [
    {
     "data": {
      "text/plain": [
       "15"
      ]
     },
     "execution_count": 896,
     "metadata": {},
     "output_type": "execute_result"
    }
   ],
   "source": [
    "dftest[\"TotRmsAbvGrd\"].max()"
   ]
  },
  {
   "cell_type": "code",
   "execution_count": 897,
   "id": "e3a92d1a",
   "metadata": {},
   "outputs": [
    {
     "name": "stdout",
     "output_type": "stream",
     "text": [
      "['ExterCond', 'KitchenQual', 'OverallQual', 'TotRmsAbvGrd']\n",
      "['ExterCond', 'KitchenQual', 'OverallQual', 'TotRmsAbvGrd']\n"
     ]
    }
   ],
   "source": [
    "def pipline_test(df):\n",
    "    numerical_features,categorical_features,ordinal_features,ordinal_numerical_features,ordinal_categorical_features,date_features,df=splitting_types(df)\n",
    "    df=pipeline_test_numerical_features(df,numerical_features)\n",
    "    df=pipeline_test_categorical_feature(df,categorical_features)\n",
    "    df=pipeline_test_ordinal_numerical_features(df,ordinal_numerical_features)\n",
    "    df=pipeline_test_ordinal_categorical_features(df,ordinal_categorical_features)\n",
    "    df=pipeline_test_dates_features(df,date_features)\n",
    "    return df\n",
    "xtest=pipline_test(xtest)\n",
    "dftest=pipline_test(dftest)"
   ]
  },
  {
   "cell_type": "code",
   "execution_count": 898,
   "id": "d7d072af",
   "metadata": {},
   "outputs": [
    {
     "ename": "AttributeError",
     "evalue": "'function' object has no attribute 'predict'",
     "output_type": "error",
     "traceback": [
      "\u001b[1;31m---------------------------------------------------------------------------\u001b[0m",
      "\u001b[1;31mAttributeError\u001b[0m                            Traceback (most recent call last)",
      "Input \u001b[1;32mIn [898]\u001b[0m, in \u001b[0;36m<cell line: 8>\u001b[1;34m()\u001b[0m\n\u001b[0;32m      5\u001b[0m     rmsle \u001b[38;5;241m=\u001b[39m np\u001b[38;5;241m.\u001b[39msqrt(mean_squared_log_error(y_test, y_pred))\n\u001b[0;32m      6\u001b[0m     \u001b[38;5;28;01mreturn\u001b[39;00m \u001b[38;5;28mround\u001b[39m(rmsle, precision)\n\u001b[1;32m----> 8\u001b[0m compute_rmsle(ytest,\u001b[43mmodel\u001b[49m\u001b[38;5;241;43m.\u001b[39;49m\u001b[43mpredict\u001b[49m(xtest))\n",
      "\u001b[1;31mAttributeError\u001b[0m: 'function' object has no attribute 'predict'"
     ]
    }
   ],
   "source": [
    "import numpy as np\n",
    "from sklearn.metrics import mean_squared_log_error\n",
    "\n",
    "def compute_rmsle(y_test: np.ndarray, y_pred: np.ndarray, precision: int = 2) -> float:\n",
    "    rmsle = np.sqrt(mean_squared_log_error(y_test, y_pred))\n",
    "    return round(rmsle, precision)\n",
    "\n",
    "compute_rmsle(ytest,model.predict(xtest))"
   ]
  },
  {
   "cell_type": "code",
   "execution_count": 899,
   "id": "6ede96a3",
   "metadata": {},
   "outputs": [
    {
     "data": {
      "text/html": [
       "<div>\n",
       "<style scoped>\n",
       "    .dataframe tbody tr th:only-of-type {\n",
       "        vertical-align: middle;\n",
       "    }\n",
       "\n",
       "    .dataframe tbody tr th {\n",
       "        vertical-align: top;\n",
       "    }\n",
       "\n",
       "    .dataframe thead th {\n",
       "        text-align: right;\n",
       "    }\n",
       "</style>\n",
       "<table border=\"1\" class=\"dataframe\">\n",
       "  <thead>\n",
       "    <tr style=\"text-align: right;\">\n",
       "      <th></th>\n",
       "      <th>Id</th>\n",
       "      <th>SalePrice</th>\n",
       "    </tr>\n",
       "  </thead>\n",
       "  <tbody>\n",
       "  </tbody>\n",
       "</table>\n",
       "</div>"
      ],
      "text/plain": [
       "Empty DataFrame\n",
       "Columns: [Id, SalePrice]\n",
       "Index: []"
      ]
     },
     "execution_count": 899,
     "metadata": {},
     "output_type": "execute_result"
    }
   ],
   "source": [
    "pd.DataFrame(columns=[\"Id\",\"SalePrice\"])"
   ]
  },
  {
   "cell_type": "code",
   "execution_count": null,
   "id": "c0a67272",
   "metadata": {},
   "outputs": [],
   "source": []
  }
 ],
 "metadata": {
  "kernelspec": {
   "display_name": "myvenv1",
   "language": "python",
   "name": "myenv"
  },
  "language_info": {
   "codemirror_mode": {
    "name": "ipython",
    "version": 3
   },
   "file_extension": ".py",
   "mimetype": "text/x-python",
   "name": "python",
   "nbconvert_exporter": "python",
   "pygments_lexer": "ipython3",
   "version": "3.9.12"
  }
 },
 "nbformat": 4,
 "nbformat_minor": 5
}
