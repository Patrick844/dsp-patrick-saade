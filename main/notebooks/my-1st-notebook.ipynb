{
 "cells": [
  {
   "cell_type": "code",
   "execution_count": 1,
   "id": "cd361581",
   "metadata": {
    "execution": {
     "iopub.execute_input": "2022-03-24T21:04:27.373129Z",
     "iopub.status.busy": "2022-03-24T21:04:27.373129Z",
     "iopub.status.idle": "2022-03-24T21:04:27.525389Z",
     "shell.execute_reply": "2022-03-24T21:04:27.525389Z"
    }
   },
   "outputs": [
    {
     "data": {
      "text/plain": [
       "array([[41, 35, 11],\n",
       "       [77, 56, 90],\n",
       "       [74, 96, 25],\n",
       "       [27, 43, 25],\n",
       "       [ 8, 73, 99],\n",
       "       [37, 40, 91],\n",
       "       [38, 53, 46],\n",
       "       [82, 36, 67],\n",
       "       [73, 54, 25],\n",
       "       [98, 29, 59]])"
      ]
     },
     "execution_count": 1,
     "metadata": {},
     "output_type": "execute_result"
    }
   ],
   "source": [
    "import numpy as np\n",
    "\n",
    "random_value=np.random.randint(100,size=(10,3))\n",
    "random_value"
   ]
  }
 ],
 "metadata": {
  "celltoolbar": "Edit Metadata",
  "kernelspec": {
   "display_name": "ml",
   "language": "python",
   "name": "ml"
  },
  "language_info": {
   "codemirror_mode": {
    "name": "ipython",
    "version": 3
   },
   "file_extension": ".py",
   "mimetype": "text/x-python",
   "name": "python",
   "nbconvert_exporter": "python",
   "pygments_lexer": "ipython3",
   "version": "3.9.7"
  },
  "widgets": {
   "application/vnd.jupyter.widget-state+json": {
    "state": {},
    "version_major": 2,
    "version_minor": 0
   }
  }
 },
 "nbformat": 4,
 "nbformat_minor": 5
}
